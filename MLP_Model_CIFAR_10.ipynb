{
  "cells": [
    {
      "cell_type": "markdown",
      "metadata": {
        "id": "view-in-github",
        "colab_type": "text"
      },
      "source": [
        "<a href=\"https://colab.research.google.com/github/mdzikrim/DeepLearning/blob/main/MLP_Model_CIFAR_10.ipynb\" target=\"_parent\"><img src=\"https://colab.research.google.com/assets/colab-badge.svg\" alt=\"Open In Colab\"/></a>"
      ]
    },
    {
      "cell_type": "markdown",
      "metadata": {
        "id": "m3-HhujK4YZo"
      },
      "source": [
        "#MLP PyTorch"
      ]
    },
    {
      "cell_type": "code",
      "execution_count": 1,
      "metadata": {
        "id": "IQmA_xqb36IP"
      },
      "outputs": [],
      "source": [
        "import torch\n",
        "import torch.nn as nn\n",
        "import torch.optim as optim\n",
        "import torchvision\n",
        "import torchvision.transforms as transforms\n",
        "from sklearn.metrics import accuracy_score, precision_score, recall_score, f1_score, roc_auc_score\n",
        "import numpy as np\n"
      ]
    },
    {
      "cell_type": "code",
      "execution_count": 2,
      "metadata": {
        "colab": {
          "base_uri": "https://localhost:8080/"
        },
        "id": "Fj1bKCEO4bCb",
        "outputId": "5b73a2d2-2d93-4204-f071-f04a719449a6"
      },
      "outputs": [
        {
          "output_type": "stream",
          "name": "stderr",
          "text": [
            "100%|██████████| 170M/170M [00:03<00:00, 45.2MB/s]\n"
          ]
        }
      ],
      "source": [
        "transform = transforms.Compose([\n",
        "    transforms.ToTensor(),\n",
        "    transforms.Lambda(lambda x: x.view(-1))  # flatten 3x32x32 = 3072\n",
        "])\n",
        "\n",
        "trainset = torchvision.datasets.CIFAR10(root='./data', train=True, download=True, transform=transform)\n",
        "testset = torchvision.datasets.CIFAR10(root='./data', train=False, download=True, transform=transform)\n",
        "\n",
        "trainloader = torch.utils.data.DataLoader(trainset, batch_size=64, shuffle=True)\n",
        "testloader = torch.utils.data.DataLoader(testset, batch_size=64, shuffle=False)\n"
      ]
    },
    {
      "cell_type": "code",
      "execution_count": 3,
      "metadata": {
        "id": "_cC57UIq4fsR"
      },
      "outputs": [],
      "source": [
        "class MLP(nn.Module):\n",
        "    def __init__(self):\n",
        "        super(MLP, self).__init__()\n",
        "        self.net = nn.Sequential(\n",
        "            nn.Linear(3072, 1024), nn.ReLU(),\n",
        "            nn.Linear(1024, 512), nn.ReLU(),\n",
        "            nn.Linear(512, 256), nn.ReLU(),\n",
        "            nn.Linear(256, 10)\n",
        "        )\n",
        "\n",
        "    def forward(self, x):\n",
        "        return self.net(x)\n",
        "\n",
        "device = torch.device(\"cuda\" if torch.cuda.is_available() else \"cpu\")\n",
        "model = MLP().to(device)\n"
      ]
    },
    {
      "cell_type": "code",
      "execution_count": 4,
      "metadata": {
        "colab": {
          "base_uri": "https://localhost:8080/"
        },
        "id": "-sW6qk9T4qtt",
        "outputId": "f82a7a7e-af94-4e23-d052-6aed32cae600"
      },
      "outputs": [
        {
          "output_type": "stream",
          "name": "stdout",
          "text": [
            "Epoch 1, Loss: 1468.9574\n",
            "Epoch 2, Loss: 1327.7686\n",
            "Epoch 3, Loss: 1254.6986\n",
            "Epoch 4, Loss: 1203.5891\n",
            "Epoch 5, Loss: 1160.4313\n",
            "Epoch 6, Loss: 1129.3663\n",
            "Epoch 7, Loss: 1108.9030\n",
            "Epoch 8, Loss: 1083.6387\n",
            "Epoch 9, Loss: 1059.9580\n",
            "Epoch 10, Loss: 1037.8052\n",
            "Epoch 11, Loss: 1016.5132\n",
            "Epoch 12, Loss: 993.5085\n",
            "Epoch 13, Loss: 979.0349\n",
            "Epoch 14, Loss: 957.1929\n",
            "Epoch 15, Loss: 933.6479\n",
            "Epoch 16, Loss: 918.1438\n",
            "Epoch 17, Loss: 899.1369\n",
            "Epoch 18, Loss: 881.3903\n",
            "Epoch 19, Loss: 864.5558\n",
            "Epoch 20, Loss: 848.6776\n",
            "Epoch 21, Loss: 828.9011\n",
            "Epoch 22, Loss: 814.2389\n",
            "Epoch 23, Loss: 798.3927\n",
            "Epoch 24, Loss: 782.4071\n",
            "Epoch 25, Loss: 761.8531\n",
            "Epoch 26, Loss: 747.5804\n",
            "Epoch 27, Loss: 732.8574\n",
            "Epoch 28, Loss: 718.7307\n",
            "Epoch 29, Loss: 698.1826\n",
            "Epoch 30, Loss: 688.9353\n"
          ]
        }
      ],
      "source": [
        "criterion = nn.CrossEntropyLoss()\n",
        "optimizer = optim.Adam(model.parameters(), lr=0.001)\n",
        "\n",
        "for epoch in range(30):  # cukup banyak epoch karena MLP biasanya lambat belajar\n",
        "    model.train()\n",
        "    total_loss = 0\n",
        "    for images, labels in trainloader:\n",
        "        images, labels = images.to(device), labels.to(device)\n",
        "\n",
        "        outputs = model(images)\n",
        "        loss = criterion(outputs, labels)\n",
        "\n",
        "        optimizer.zero_grad()\n",
        "        loss.backward()\n",
        "        optimizer.step()\n",
        "        total_loss += loss.item()\n",
        "    print(f\"Epoch {epoch+1}, Loss: {total_loss:.4f}\")\n"
      ]
    },
    {
      "cell_type": "code",
      "source": [
        "model.eval()\n",
        "all_preds, all_probs, all_labels = [], [], []\n",
        "\n",
        "with torch.no_grad():\n",
        "    for images, labels in testloader:\n",
        "        images = images.to(device)\n",
        "        outputs = model(images)\n",
        "        probs = torch.softmax(outputs, dim=1).cpu().numpy()\n",
        "        preds = np.argmax(probs, axis=1)\n",
        "\n",
        "        all_probs.extend(probs)\n",
        "        all_preds.extend(preds)\n",
        "        all_labels.extend(labels.numpy())\n",
        "\n",
        "accuracy  = accuracy_score(all_labels, all_preds)\n",
        "precision = precision_score(all_labels, all_preds, average='macro')\n",
        "recall    = recall_score(all_labels, all_preds, average='macro')\n",
        "f1        = f1_score(all_labels, all_preds, average='macro')\n",
        "auc       = roc_auc_score(np.eye(10)[all_labels], all_probs, average='macro', multi_class='ovr')\n",
        "\n",
        "print(\"📊 Evaluasi MLP:\")\n",
        "print(f\"Akurasi  : {accuracy:.4f}\")\n",
        "print(f\"Presisi  : {precision:.4f}\")\n",
        "print(f\"Recall   : {recall:.4f}\")\n",
        "print(f\"F1-Score : {f1:.4f}\")\n",
        "print(f\"AUC      : {auc:.4f}\")\n"
      ],
      "metadata": {
        "colab": {
          "base_uri": "https://localhost:8080/"
        },
        "id": "CpaqARaOmdYP",
        "outputId": "169c3784-9965-4483-c5fc-fdcced753f35"
      },
      "execution_count": 5,
      "outputs": [
        {
          "output_type": "stream",
          "name": "stdout",
          "text": [
            "📊 Evaluasi MLP:\n",
            "Akurasi  : 0.4963\n",
            "Presisi  : 0.5060\n",
            "Recall   : 0.4963\n",
            "F1-Score : 0.4916\n",
            "AUC      : 0.8751\n"
          ]
        }
      ]
    },
    {
      "cell_type": "markdown",
      "source": [
        "#MLP Tensorflow"
      ],
      "metadata": {
        "id": "78IxLrpDnbKo"
      }
    },
    {
      "cell_type": "code",
      "source": [
        "import tensorflow as tf\n",
        "from tensorflow.keras import layers, models\n",
        "from sklearn.metrics import accuracy_score, precision_score, recall_score, f1_score, roc_auc_score\n",
        "import numpy as np"
      ],
      "metadata": {
        "id": "Tx4VQ53jncU7"
      },
      "execution_count": 6,
      "outputs": []
    },
    {
      "cell_type": "code",
      "source": [
        "(x_train, y_train), (x_test, y_test) = tf.keras.datasets.cifar10.load_data()\n",
        "\n",
        "# Normalisasi & Flatten gambar 32x32x3 → 3072\n",
        "x_train = x_train.reshape(-1, 32*32*3) / 255.0\n",
        "x_test  = x_test.reshape(-1, 32*32*3) / 255.0\n",
        "\n",
        "# Ubah label jadi one-hot\n",
        "y_train_onehot = tf.keras.utils.to_categorical(y_train, 10)\n",
        "y_test_onehot  = tf.keras.utils.to_categorical(y_test, 10)\n"
      ],
      "metadata": {
        "colab": {
          "base_uri": "https://localhost:8080/"
        },
        "id": "t8VNum4vngA0",
        "outputId": "a30d40fa-2953-4ba4-b484-d6cd185ce666"
      },
      "execution_count": 7,
      "outputs": [
        {
          "output_type": "stream",
          "name": "stdout",
          "text": [
            "Downloading data from https://www.cs.toronto.edu/~kriz/cifar-10-python.tar.gz\n",
            "\u001b[1m170498071/170498071\u001b[0m \u001b[32m━━━━━━━━━━━━━━━━━━━━\u001b[0m\u001b[37m\u001b[0m \u001b[1m2s\u001b[0m 0us/step\n"
          ]
        }
      ]
    },
    {
      "cell_type": "code",
      "source": [
        "model = models.Sequential([\n",
        "    layers.Dense(1024, activation='relu', input_shape=(3072,)),\n",
        "    layers.Dense(512, activation='relu'),\n",
        "    layers.Dense(256, activation='relu'),\n",
        "    layers.Dense(10, activation='softmax')\n",
        "])\n"
      ],
      "metadata": {
        "colab": {
          "base_uri": "https://localhost:8080/"
        },
        "id": "f5qbsa2ZnifS",
        "outputId": "9e0a25cc-46bf-4398-c9cd-5867bda88831"
      },
      "execution_count": 8,
      "outputs": [
        {
          "output_type": "stream",
          "name": "stderr",
          "text": [
            "/usr/local/lib/python3.11/dist-packages/keras/src/layers/core/dense.py:87: UserWarning: Do not pass an `input_shape`/`input_dim` argument to a layer. When using Sequential models, prefer using an `Input(shape)` object as the first layer in the model instead.\n",
            "  super().__init__(activity_regularizer=activity_regularizer, **kwargs)\n"
          ]
        }
      ]
    },
    {
      "cell_type": "code",
      "source": [
        "model.compile(optimizer='adam', loss='categorical_crossentropy', metrics=['accuracy'])\n",
        "\n",
        "history = model.fit(\n",
        "    x_train, y_train_onehot,\n",
        "    epochs=30,\n",
        "    batch_size=64,\n",
        "    validation_data=(x_test, y_test_onehot),\n",
        "    verbose=2\n",
        ")\n"
      ],
      "metadata": {
        "colab": {
          "base_uri": "https://localhost:8080/"
        },
        "id": "2JMauYZvnmri",
        "outputId": "8b95ea27-5e43-4675-c052-955a4f1b6039"
      },
      "execution_count": 9,
      "outputs": [
        {
          "output_type": "stream",
          "name": "stdout",
          "text": [
            "Epoch 1/30\n",
            "782/782 - 63s - 81ms/step - accuracy: 0.3169 - loss: 1.8839 - val_accuracy: 0.3787 - val_loss: 1.7287\n",
            "Epoch 2/30\n",
            "782/782 - 68s - 87ms/step - accuracy: 0.3993 - loss: 1.6714 - val_accuracy: 0.3960 - val_loss: 1.7219\n",
            "Epoch 3/30\n",
            "782/782 - 47s - 60ms/step - accuracy: 0.4318 - loss: 1.5856 - val_accuracy: 0.4460 - val_loss: 1.5571\n",
            "Epoch 4/30\n",
            "782/782 - 82s - 104ms/step - accuracy: 0.4587 - loss: 1.5167 - val_accuracy: 0.4599 - val_loss: 1.5225\n",
            "Epoch 5/30\n",
            "782/782 - 83s - 107ms/step - accuracy: 0.4716 - loss: 1.4766 - val_accuracy: 0.4806 - val_loss: 1.4663\n",
            "Epoch 6/30\n",
            "782/782 - 81s - 103ms/step - accuracy: 0.4836 - loss: 1.4425 - val_accuracy: 0.4659 - val_loss: 1.4920\n",
            "Epoch 7/30\n",
            "782/782 - 48s - 61ms/step - accuracy: 0.4962 - loss: 1.4098 - val_accuracy: 0.4864 - val_loss: 1.4586\n",
            "Epoch 8/30\n",
            "782/782 - 46s - 59ms/step - accuracy: 0.5073 - loss: 1.3759 - val_accuracy: 0.4900 - val_loss: 1.4487\n",
            "Epoch 9/30\n",
            "782/782 - 46s - 59ms/step - accuracy: 0.5188 - loss: 1.3484 - val_accuracy: 0.4949 - val_loss: 1.4299\n",
            "Epoch 10/30\n",
            "782/782 - 88s - 112ms/step - accuracy: 0.5258 - loss: 1.3213 - val_accuracy: 0.4981 - val_loss: 1.4137\n",
            "Epoch 11/30\n",
            "782/782 - 76s - 97ms/step - accuracy: 0.5341 - loss: 1.2934 - val_accuracy: 0.5048 - val_loss: 1.4161\n",
            "Epoch 12/30\n",
            "782/782 - 83s - 106ms/step - accuracy: 0.5446 - loss: 1.2660 - val_accuracy: 0.5139 - val_loss: 1.3880\n",
            "Epoch 13/30\n",
            "782/782 - 84s - 107ms/step - accuracy: 0.5553 - loss: 1.2330 - val_accuracy: 0.5015 - val_loss: 1.4255\n",
            "Epoch 14/30\n",
            "782/782 - 79s - 101ms/step - accuracy: 0.5629 - loss: 1.2105 - val_accuracy: 0.5018 - val_loss: 1.4150\n",
            "Epoch 15/30\n",
            "782/782 - 83s - 106ms/step - accuracy: 0.5745 - loss: 1.1836 - val_accuracy: 0.5103 - val_loss: 1.4031\n",
            "Epoch 16/30\n",
            "782/782 - 81s - 104ms/step - accuracy: 0.5820 - loss: 1.1555 - val_accuracy: 0.4989 - val_loss: 1.4524\n",
            "Epoch 17/30\n",
            "782/782 - 82s - 104ms/step - accuracy: 0.5941 - loss: 1.1280 - val_accuracy: 0.5008 - val_loss: 1.4418\n",
            "Epoch 18/30\n",
            "782/782 - 47s - 60ms/step - accuracy: 0.6032 - loss: 1.0969 - val_accuracy: 0.5023 - val_loss: 1.4725\n",
            "Epoch 19/30\n",
            "782/782 - 81s - 104ms/step - accuracy: 0.6102 - loss: 1.0781 - val_accuracy: 0.5048 - val_loss: 1.4788\n",
            "Epoch 20/30\n",
            "782/782 - 82s - 105ms/step - accuracy: 0.6187 - loss: 1.0492 - val_accuracy: 0.5030 - val_loss: 1.5089\n",
            "Epoch 21/30\n",
            "782/782 - 82s - 105ms/step - accuracy: 0.6310 - loss: 1.0209 - val_accuracy: 0.5035 - val_loss: 1.4964\n",
            "Epoch 22/30\n",
            "782/782 - 45s - 58ms/step - accuracy: 0.6403 - loss: 0.9944 - val_accuracy: 0.4874 - val_loss: 1.5817\n",
            "Epoch 23/30\n",
            "782/782 - 83s - 106ms/step - accuracy: 0.6501 - loss: 0.9690 - val_accuracy: 0.5007 - val_loss: 1.5836\n",
            "Epoch 24/30\n",
            "782/782 - 82s - 105ms/step - accuracy: 0.6594 - loss: 0.9390 - val_accuracy: 0.5027 - val_loss: 1.5642\n",
            "Epoch 25/30\n",
            "782/782 - 46s - 59ms/step - accuracy: 0.6659 - loss: 0.9248 - val_accuracy: 0.4937 - val_loss: 1.6044\n",
            "Epoch 26/30\n",
            "782/782 - 82s - 105ms/step - accuracy: 0.6737 - loss: 0.8989 - val_accuracy: 0.4989 - val_loss: 1.6569\n",
            "Epoch 27/30\n",
            "782/782 - 82s - 105ms/step - accuracy: 0.6828 - loss: 0.8739 - val_accuracy: 0.4918 - val_loss: 1.7150\n",
            "Epoch 28/30\n",
            "782/782 - 81s - 104ms/step - accuracy: 0.6918 - loss: 0.8505 - val_accuracy: 0.4999 - val_loss: 1.7025\n",
            "Epoch 29/30\n",
            "782/782 - 83s - 106ms/step - accuracy: 0.7025 - loss: 0.8196 - val_accuracy: 0.5023 - val_loss: 1.7422\n",
            "Epoch 30/30\n",
            "782/782 - 49s - 62ms/step - accuracy: 0.7083 - loss: 0.8032 - val_accuracy: 0.4847 - val_loss: 1.8290\n"
          ]
        }
      ]
    },
    {
      "cell_type": "code",
      "source": [
        "# Prediksi\n",
        "y_pred_probs = model.predict(x_test)\n",
        "y_pred = np.argmax(y_pred_probs, axis=1)\n",
        "y_true = y_test.flatten()\n",
        "\n",
        "# Evaluasi metrik\n",
        "acc = accuracy_score(y_true, y_pred)\n",
        "prec = precision_score(y_true, y_pred, average='macro')\n",
        "rec = recall_score(y_true, y_pred, average='macro')\n",
        "f1 = f1_score(y_true, y_pred, average='macro')\n",
        "auc = roc_auc_score(tf.keras.utils.to_categorical(y_true, 10), y_pred_probs, average='macro', multi_class='ovr')\n",
        "\n",
        "print(\"📊 Evaluasi MLP TensorFlow:\")\n",
        "print(f\"Akurasi  : {acc:.4f}\")\n",
        "print(f\"Presisi  : {prec:.4f}\")\n",
        "print(f\"Recall   : {rec:.4f}\")\n",
        "print(f\"F1-Score : {f1:.4f}\")\n",
        "print(f\"AUC      : {auc:.4f}\")\n"
      ],
      "metadata": {
        "colab": {
          "base_uri": "https://localhost:8080/"
        },
        "id": "yuPhmUwPpDJh",
        "outputId": "92e3ca7a-016b-410d-885e-c05a6b1d1221"
      },
      "execution_count": 10,
      "outputs": [
        {
          "output_type": "stream",
          "name": "stdout",
          "text": [
            "\u001b[1m313/313\u001b[0m \u001b[32m━━━━━━━━━━━━━━━━━━━━\u001b[0m\u001b[37m\u001b[0m \u001b[1m4s\u001b[0m 13ms/step\n",
            "📊 Evaluasi MLP TensorFlow:\n",
            "Akurasi  : 0.4847\n",
            "Presisi  : 0.4835\n",
            "Recall   : 0.4847\n",
            "F1-Score : 0.4778\n",
            "AUC      : 0.8705\n"
          ]
        }
      ]
    }
  ],
  "metadata": {
    "colab": {
      "provenance": [],
      "authorship_tag": "ABX9TyPz8evWNAjKm6MFL7txp+2P",
      "include_colab_link": true
    },
    "kernelspec": {
      "display_name": "Python 3",
      "name": "python3"
    },
    "language_info": {
      "name": "python"
    }
  },
  "nbformat": 4,
  "nbformat_minor": 0
}