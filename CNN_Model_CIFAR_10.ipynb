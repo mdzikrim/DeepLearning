{
  "cells": [
    {
      "cell_type": "markdown",
      "metadata": {
        "id": "view-in-github",
        "colab_type": "text"
      },
      "source": [
        "<a href=\"https://colab.research.google.com/github/mdzikrim/DeepLearning/blob/main/CNN_Model_CIFAR_10.ipynb\" target=\"_parent\"><img src=\"https://colab.research.google.com/assets/colab-badge.svg\" alt=\"Open In Colab\"/></a>"
      ]
    },
    {
      "cell_type": "markdown",
      "source": [
        "#CNN PyTorch"
      ],
      "metadata": {
        "id": "TostFyAyzoDZ"
      }
    },
    {
      "cell_type": "code",
      "execution_count": 23,
      "metadata": {
        "id": "SAetP_lii5gr"
      },
      "outputs": [],
      "source": [
        "import torch\n",
        "import torch.nn as nn\n",
        "import torch.optim as optim\n",
        "import torchvision\n",
        "import torchvision.transforms as transforms\n",
        "from sklearn.metrics import accuracy_score, precision_score, recall_score, f1_score, roc_auc_score\n",
        "import numpy as np\n",
        "\n",
        "device = torch.device(\"cuda\" if torch.cuda.is_available() else \"cpu\")"
      ]
    },
    {
      "cell_type": "code",
      "execution_count": 24,
      "metadata": {
        "id": "ZLLRt0Fwjw0g"
      },
      "outputs": [],
      "source": [
        "transform_train = transforms.Compose([\n",
        "    transforms.RandomHorizontalFlip(),\n",
        "    transforms.ToTensor(),\n",
        "    transforms.Normalize((0.5,), (0.5,))\n",
        "])\n",
        "\n",
        "transform_test = transforms.Compose([\n",
        "    transforms.ToTensor(),\n",
        "    transforms.Normalize((0.5,), (0.5,))\n",
        "])\n",
        "\n",
        "trainset = torchvision.datasets.CIFAR10(root='./data', train=True, download=True, transform=transform_train)\n",
        "testset = torchvision.datasets.CIFAR10(root='./data', train=False, download=True, transform=transform_test)\n",
        "\n",
        "trainloader = torch.utils.data.DataLoader(trainset, batch_size=64, shuffle=True)\n",
        "testloader = torch.utils.data.DataLoader(testset, batch_size=64, shuffle=False)"
      ]
    },
    {
      "cell_type": "code",
      "execution_count": 25,
      "metadata": {
        "id": "JtLngWWOkKan"
      },
      "outputs": [],
      "source": [
        "class CNN(nn.Module):\n",
        "    def __init__(self):\n",
        "        super(CNN, self).__init__()\n",
        "        self.model = nn.Sequential(\n",
        "            nn.Conv2d(3, 32, 3, padding=1), nn.ReLU(), nn.MaxPool2d(2),\n",
        "            nn.Conv2d(32, 64, 3, padding=1), nn.ReLU(), nn.MaxPool2d(2),\n",
        "            nn.Flatten(),\n",
        "            nn.Linear(64 * 8 * 8, 256), nn.ReLU(),\n",
        "            nn.Dropout(0.3),\n",
        "            nn.Linear(256, 10)\n",
        "        )\n",
        "\n",
        "    def forward(self, x):\n",
        "        return self.model(x)\n",
        "\n",
        "model = CNN().to(device)"
      ]
    },
    {
      "cell_type": "code",
      "execution_count": 26,
      "metadata": {
        "colab": {
          "base_uri": "https://localhost:8080/"
        },
        "id": "RR9x__W0kNT5",
        "outputId": "8fc143c2-6194-44a3-aedc-91f257b493a4"
      },
      "outputs": [
        {
          "output_type": "stream",
          "name": "stdout",
          "text": [
            "Epoch 1 | Loss: 1154.0193\n",
            "Epoch 2 | Loss: 899.0771\n",
            "Epoch 3 | Loss: 778.0177\n",
            "Epoch 4 | Loss: 705.8400\n",
            "Epoch 5 | Loss: 655.1831\n",
            "Epoch 6 | Loss: 609.4172\n",
            "Epoch 7 | Loss: 574.2173\n",
            "Epoch 8 | Loss: 545.2778\n",
            "Epoch 9 | Loss: 512.6494\n",
            "Epoch 10 | Loss: 485.8300\n",
            "Epoch 11 | Loss: 461.9132\n",
            "Epoch 12 | Loss: 439.1278\n",
            "Epoch 13 | Loss: 418.3021\n",
            "Epoch 14 | Loss: 400.7752\n",
            "Epoch 15 | Loss: 380.1481\n",
            "Epoch 16 | Loss: 361.6624\n",
            "Epoch 17 | Loss: 349.0241\n",
            "Epoch 18 | Loss: 327.5960\n",
            "Epoch 19 | Loss: 316.6558\n",
            "Epoch 20 | Loss: 301.5407\n"
          ]
        }
      ],
      "source": [
        "criterion = nn.CrossEntropyLoss()\n",
        "optimizer = optim.Adam(model.parameters(), lr=0.0005)\n",
        "\n",
        "for epoch in range(20):\n",
        "    model.train()\n",
        "    total_loss = 0\n",
        "    for images, labels in trainloader:\n",
        "        images, labels = images.to(device), labels.to(device)\n",
        "\n",
        "        outputs = model(images)\n",
        "        loss = criterion(outputs, labels)\n",
        "\n",
        "        optimizer.zero_grad()\n",
        "        loss.backward()\n",
        "        optimizer.step()\n",
        "\n",
        "        total_loss += loss.item()\n",
        "\n",
        "    print(f\"Epoch {epoch+1} | Loss: {total_loss:.4f}\")"
      ]
    },
    {
      "cell_type": "code",
      "source": [
        "model.eval()\n",
        "all_preds = []\n",
        "all_labels = []\n",
        "all_probs = []\n",
        "\n",
        "with torch.no_grad():\n",
        "    for images, labels in testloader:\n",
        "        images, labels = images.to(device), labels.to(device)\n",
        "        outputs = model(images)\n",
        "        probs = torch.softmax(outputs, dim=1).cpu().numpy()\n",
        "        preds = np.argmax(probs, axis=1)\n",
        "\n",
        "        all_preds.extend(preds)\n",
        "        all_probs.extend(probs)\n",
        "        all_labels.extend(labels.cpu().numpy())\n",
        "\n",
        "y_true = np.eye(10)[all_labels]\n",
        "y_score = np.array(all_probs)\n",
        "\n",
        "accuracy = accuracy_score(all_labels, all_preds)\n",
        "precision = precision_score(all_labels, all_preds, average='macro')\n",
        "recall = recall_score(all_labels, all_preds, average='macro')\n",
        "f1 = f1_score(all_labels, all_preds, average='macro')\n",
        "auc = roc_auc_score(y_true, y_score, average='macro', multi_class='ovr')\n",
        "\n",
        "print(\"📊 Hasil Evaluasi:\")\n",
        "print(f\"Akurasi  : {accuracy:.4f}\")\n",
        "print(f\"Presisi  : {precision:.4f}\")\n",
        "print(f\"Recall   : {recall:.4f}\")\n",
        "print(f\"F1-Score : {f1:.4f}\")\n",
        "print(f\"AUC      : {auc:.4f}\")"
      ],
      "metadata": {
        "id": "P3hhqsnFrHfd",
        "colab": {
          "base_uri": "https://localhost:8080/"
        },
        "outputId": "5564226e-d9c4-4237-efdc-02b16aa0e82f"
      },
      "execution_count": 27,
      "outputs": [
        {
          "output_type": "stream",
          "name": "stdout",
          "text": [
            "📊 Hasil Evaluasi:\n",
            "Akurasi  : 0.7703\n",
            "Presisi  : 0.7717\n",
            "Recall   : 0.7703\n",
            "F1-Score : 0.7706\n",
            "AUC      : 0.9711\n"
          ]
        }
      ]
    },
    {
      "cell_type": "markdown",
      "source": [
        "#CNN Tensorflow"
      ],
      "metadata": {
        "id": "zsV6955yzzN1"
      }
    },
    {
      "cell_type": "code",
      "source": [
        "import tensorflow as tf\n",
        "from tensorflow.keras import layers, models\n",
        "from sklearn.metrics import accuracy_score, precision_score, recall_score, f1_score, roc_auc_score\n",
        "import numpy as np\n"
      ],
      "metadata": {
        "id": "wxWQnwQLz1hM"
      },
      "execution_count": 28,
      "outputs": []
    },
    {
      "cell_type": "code",
      "source": [
        "(x_train, y_train), (x_test, y_test) = tf.keras.datasets.cifar10.load_data()\n",
        "\n",
        "x_train = x_train.astype('float32') / 255.0\n",
        "x_test  = x_test.astype('float32') / 255.0\n",
        "\n",
        "y_train = y_train.flatten()\n",
        "y_test = y_test.flatten()\n",
        "\n",
        "y_train_onehot = tf.keras.utils.to_categorical(y_train, 10)\n",
        "y_test_onehot  = tf.keras.utils.to_categorical(y_test, 10)"
      ],
      "metadata": {
        "colab": {
          "base_uri": "https://localhost:8080/"
        },
        "id": "C6rkkKe20DKw",
        "outputId": "4eadf2b8-9299-4357-bdae-47ca7e07b37c"
      },
      "execution_count": 29,
      "outputs": [
        {
          "output_type": "stream",
          "name": "stdout",
          "text": [
            "Downloading data from https://www.cs.toronto.edu/~kriz/cifar-10-python.tar.gz\n",
            "\u001b[1m170498071/170498071\u001b[0m \u001b[32m━━━━━━━━━━━━━━━━━━━━\u001b[0m\u001b[37m\u001b[0m \u001b[1m13s\u001b[0m 0us/step\n"
          ]
        }
      ]
    },
    {
      "cell_type": "code",
      "source": [
        "model = models.Sequential([\n",
        "    layers.Conv2D(32, (3,3), padding='same', activation='relu', input_shape=(32,32,3)),\n",
        "    layers.Conv2D(32, (3,3), padding='same', activation='relu'),\n",
        "    layers.MaxPooling2D((2,2)),\n",
        "\n",
        "    layers.Conv2D(64, (3,3), padding='same', activation='relu'),\n",
        "    layers.Conv2D(64, (3,3), padding='same', activation='relu'),\n",
        "    layers.MaxPooling2D((2,2)),\n",
        "\n",
        "    layers.Conv2D(128, (3,3), padding='same', activation='relu'),\n",
        "    layers.Conv2D(128, (3,3), padding='same', activation='relu'),\n",
        "    layers.MaxPooling2D((2,2)),\n",
        "\n",
        "    layers.Flatten(),\n",
        "    layers.Dense(256, activation='relu'),\n",
        "    layers.Dropout(0.3),\n",
        "    layers.Dense(10, activation='softmax')\n",
        "])"
      ],
      "metadata": {
        "colab": {
          "base_uri": "https://localhost:8080/"
        },
        "id": "cCMwVz000GEo",
        "outputId": "2c7fa6a8-09af-47e7-b6db-a6b8fa8379dd"
      },
      "execution_count": 35,
      "outputs": [
        {
          "output_type": "stream",
          "name": "stderr",
          "text": [
            "/usr/local/lib/python3.11/dist-packages/keras/src/layers/convolutional/base_conv.py:107: UserWarning: Do not pass an `input_shape`/`input_dim` argument to a layer. When using Sequential models, prefer using an `Input(shape)` object as the first layer in the model instead.\n",
            "  super().__init__(activity_regularizer=activity_regularizer, **kwargs)\n"
          ]
        }
      ]
    },
    {
      "cell_type": "code",
      "source": [
        "model.compile(optimizer='adam',\n",
        "              loss='categorical_crossentropy',\n",
        "              metrics=['accuracy'])\n",
        "\n",
        "history = model.fit(x_train, y_train_onehot, epochs=40, batch_size=64,\n",
        "                    validation_data=(x_test, y_test_onehot))"
      ],
      "metadata": {
        "colab": {
          "base_uri": "https://localhost:8080/"
        },
        "id": "lzc3SjiI0LvM",
        "outputId": "71132d9b-0379-4e1b-d5fd-233a74f49bc8"
      },
      "execution_count": 36,
      "outputs": [
        {
          "output_type": "stream",
          "name": "stdout",
          "text": [
            "Epoch 1/40\n",
            "\u001b[1m782/782\u001b[0m \u001b[32m━━━━━━━━━━━━━━━━━━━━\u001b[0m\u001b[37m\u001b[0m \u001b[1m15s\u001b[0m 13ms/step - accuracy: 0.3239 - loss: 1.8104 - val_accuracy: 0.5810 - val_loss: 1.1698\n",
            "Epoch 2/40\n",
            "\u001b[1m782/782\u001b[0m \u001b[32m━━━━━━━━━━━━━━━━━━━━\u001b[0m\u001b[37m\u001b[0m \u001b[1m6s\u001b[0m 8ms/step - accuracy: 0.6036 - loss: 1.1112 - val_accuracy: 0.6720 - val_loss: 0.9270\n",
            "Epoch 3/40\n",
            "\u001b[1m782/782\u001b[0m \u001b[32m━━━━━━━━━━━━━━━━━━━━\u001b[0m\u001b[37m\u001b[0m \u001b[1m10s\u001b[0m 8ms/step - accuracy: 0.6985 - loss: 0.8585 - val_accuracy: 0.7211 - val_loss: 0.7953\n",
            "Epoch 4/40\n",
            "\u001b[1m782/782\u001b[0m \u001b[32m━━━━━━━━━━━━━━━━━━━━\u001b[0m\u001b[37m\u001b[0m \u001b[1m6s\u001b[0m 8ms/step - accuracy: 0.7531 - loss: 0.7058 - val_accuracy: 0.7196 - val_loss: 0.8126\n",
            "Epoch 5/40\n",
            "\u001b[1m782/782\u001b[0m \u001b[32m━━━━━━━━━━━━━━━━━━━━\u001b[0m\u001b[37m\u001b[0m \u001b[1m6s\u001b[0m 8ms/step - accuracy: 0.7898 - loss: 0.5987 - val_accuracy: 0.7680 - val_loss: 0.6830\n",
            "Epoch 6/40\n",
            "\u001b[1m782/782\u001b[0m \u001b[32m━━━━━━━━━━━━━━━━━━━━\u001b[0m\u001b[37m\u001b[0m \u001b[1m10s\u001b[0m 8ms/step - accuracy: 0.8287 - loss: 0.4924 - val_accuracy: 0.7724 - val_loss: 0.6870\n",
            "Epoch 7/40\n",
            "\u001b[1m782/782\u001b[0m \u001b[32m━━━━━━━━━━━━━━━━━━━━\u001b[0m\u001b[37m\u001b[0m \u001b[1m10s\u001b[0m 8ms/step - accuracy: 0.8512 - loss: 0.4221 - val_accuracy: 0.7828 - val_loss: 0.7099\n",
            "Epoch 8/40\n",
            "\u001b[1m782/782\u001b[0m \u001b[32m━━━━━━━━━━━━━━━━━━━━\u001b[0m\u001b[37m\u001b[0m \u001b[1m10s\u001b[0m 8ms/step - accuracy: 0.8719 - loss: 0.3588 - val_accuracy: 0.7689 - val_loss: 0.7424\n",
            "Epoch 9/40\n",
            "\u001b[1m782/782\u001b[0m \u001b[32m━━━━━━━━━━━━━━━━━━━━\u001b[0m\u001b[37m\u001b[0m \u001b[1m6s\u001b[0m 8ms/step - accuracy: 0.8861 - loss: 0.3198 - val_accuracy: 0.7853 - val_loss: 0.7281\n",
            "Epoch 10/40\n",
            "\u001b[1m782/782\u001b[0m \u001b[32m━━━━━━━━━━━━━━━━━━━━\u001b[0m\u001b[37m\u001b[0m \u001b[1m10s\u001b[0m 8ms/step - accuracy: 0.9053 - loss: 0.2686 - val_accuracy: 0.7744 - val_loss: 0.7999\n",
            "Epoch 11/40\n",
            "\u001b[1m782/782\u001b[0m \u001b[32m━━━━━━━━━━━━━━━━━━━━\u001b[0m\u001b[37m\u001b[0m \u001b[1m6s\u001b[0m 8ms/step - accuracy: 0.9213 - loss: 0.2240 - val_accuracy: 0.7744 - val_loss: 0.8122\n",
            "Epoch 12/40\n",
            "\u001b[1m782/782\u001b[0m \u001b[32m━━━━━━━━━━━━━━━━━━━━\u001b[0m\u001b[37m\u001b[0m \u001b[1m10s\u001b[0m 8ms/step - accuracy: 0.9268 - loss: 0.2083 - val_accuracy: 0.7597 - val_loss: 0.9635\n",
            "Epoch 13/40\n",
            "\u001b[1m782/782\u001b[0m \u001b[32m━━━━━━━━━━━━━━━━━━━━\u001b[0m\u001b[37m\u001b[0m \u001b[1m6s\u001b[0m 8ms/step - accuracy: 0.9334 - loss: 0.1875 - val_accuracy: 0.7819 - val_loss: 0.8961\n",
            "Epoch 14/40\n",
            "\u001b[1m782/782\u001b[0m \u001b[32m━━━━━━━━━━━━━━━━━━━━\u001b[0m\u001b[37m\u001b[0m \u001b[1m10s\u001b[0m 8ms/step - accuracy: 0.9372 - loss: 0.1807 - val_accuracy: 0.7787 - val_loss: 1.0046\n",
            "Epoch 15/40\n",
            "\u001b[1m782/782\u001b[0m \u001b[32m━━━━━━━━━━━━━━━━━━━━\u001b[0m\u001b[37m\u001b[0m \u001b[1m10s\u001b[0m 8ms/step - accuracy: 0.9363 - loss: 0.1792 - val_accuracy: 0.7784 - val_loss: 1.0124\n",
            "Epoch 16/40\n",
            "\u001b[1m782/782\u001b[0m \u001b[32m━━━━━━━━━━━━━━━━━━━━\u001b[0m\u001b[37m\u001b[0m \u001b[1m6s\u001b[0m 8ms/step - accuracy: 0.9463 - loss: 0.1478 - val_accuracy: 0.7789 - val_loss: 1.0126\n",
            "Epoch 17/40\n",
            "\u001b[1m782/782\u001b[0m \u001b[32m━━━━━━━━━━━━━━━━━━━━\u001b[0m\u001b[37m\u001b[0m \u001b[1m6s\u001b[0m 8ms/step - accuracy: 0.9484 - loss: 0.1476 - val_accuracy: 0.7831 - val_loss: 1.0414\n",
            "Epoch 18/40\n",
            "\u001b[1m782/782\u001b[0m \u001b[32m━━━━━━━━━━━━━━━━━━━━\u001b[0m\u001b[37m\u001b[0m \u001b[1m10s\u001b[0m 8ms/step - accuracy: 0.9471 - loss: 0.1508 - val_accuracy: 0.7723 - val_loss: 1.0906\n",
            "Epoch 19/40\n",
            "\u001b[1m782/782\u001b[0m \u001b[32m━━━━━━━━━━━━━━━━━━━━\u001b[0m\u001b[37m\u001b[0m \u001b[1m10s\u001b[0m 8ms/step - accuracy: 0.9516 - loss: 0.1409 - val_accuracy: 0.7794 - val_loss: 1.1589\n",
            "Epoch 20/40\n",
            "\u001b[1m782/782\u001b[0m \u001b[32m━━━━━━━━━━━━━━━━━━━━\u001b[0m\u001b[37m\u001b[0m \u001b[1m10s\u001b[0m 8ms/step - accuracy: 0.9549 - loss: 0.1324 - val_accuracy: 0.7756 - val_loss: 1.1925\n",
            "Epoch 21/40\n",
            "\u001b[1m782/782\u001b[0m \u001b[32m━━━━━━━━━━━━━━━━━━━━\u001b[0m\u001b[37m\u001b[0m \u001b[1m10s\u001b[0m 8ms/step - accuracy: 0.9589 - loss: 0.1178 - val_accuracy: 0.7810 - val_loss: 1.2211\n",
            "Epoch 22/40\n",
            "\u001b[1m782/782\u001b[0m \u001b[32m━━━━━━━━━━━━━━━━━━━━\u001b[0m\u001b[37m\u001b[0m \u001b[1m10s\u001b[0m 8ms/step - accuracy: 0.9550 - loss: 0.1307 - val_accuracy: 0.7786 - val_loss: 1.2098\n",
            "Epoch 23/40\n",
            "\u001b[1m782/782\u001b[0m \u001b[32m━━━━━━━━━━━━━━━━━━━━\u001b[0m\u001b[37m\u001b[0m \u001b[1m10s\u001b[0m 8ms/step - accuracy: 0.9602 - loss: 0.1198 - val_accuracy: 0.7758 - val_loss: 1.1491\n",
            "Epoch 24/40\n",
            "\u001b[1m782/782\u001b[0m \u001b[32m━━━━━━━━━━━━━━━━━━━━\u001b[0m\u001b[37m\u001b[0m \u001b[1m10s\u001b[0m 8ms/step - accuracy: 0.9580 - loss: 0.1250 - val_accuracy: 0.7774 - val_loss: 1.2761\n",
            "Epoch 25/40\n",
            "\u001b[1m782/782\u001b[0m \u001b[32m━━━━━━━━━━━━━━━━━━━━\u001b[0m\u001b[37m\u001b[0m \u001b[1m6s\u001b[0m 8ms/step - accuracy: 0.9582 - loss: 0.1210 - val_accuracy: 0.7779 - val_loss: 1.2247\n",
            "Epoch 26/40\n",
            "\u001b[1m782/782\u001b[0m \u001b[32m━━━━━━━━━━━━━━━━━━━━\u001b[0m\u001b[37m\u001b[0m \u001b[1m6s\u001b[0m 7ms/step - accuracy: 0.9632 - loss: 0.1118 - val_accuracy: 0.7783 - val_loss: 1.2617\n",
            "Epoch 27/40\n",
            "\u001b[1m782/782\u001b[0m \u001b[32m━━━━━━━━━━━━━━━━━━━━\u001b[0m\u001b[37m\u001b[0m \u001b[1m10s\u001b[0m 8ms/step - accuracy: 0.9589 - loss: 0.1218 - val_accuracy: 0.7798 - val_loss: 1.2565\n",
            "Epoch 28/40\n",
            "\u001b[1m782/782\u001b[0m \u001b[32m━━━━━━━━━━━━━━━━━━━━\u001b[0m\u001b[37m\u001b[0m \u001b[1m10s\u001b[0m 8ms/step - accuracy: 0.9616 - loss: 0.1135 - val_accuracy: 0.7744 - val_loss: 1.2860\n",
            "Epoch 29/40\n",
            "\u001b[1m782/782\u001b[0m \u001b[32m━━━━━━━━━━━━━━━━━━━━\u001b[0m\u001b[37m\u001b[0m \u001b[1m6s\u001b[0m 8ms/step - accuracy: 0.9578 - loss: 0.1277 - val_accuracy: 0.7812 - val_loss: 1.2365\n",
            "Epoch 30/40\n",
            "\u001b[1m782/782\u001b[0m \u001b[32m━━━━━━━━━━━━━━━━━━━━\u001b[0m\u001b[37m\u001b[0m \u001b[1m10s\u001b[0m 8ms/step - accuracy: 0.9676 - loss: 0.0989 - val_accuracy: 0.7825 - val_loss: 1.3006\n",
            "Epoch 31/40\n",
            "\u001b[1m782/782\u001b[0m \u001b[32m━━━━━━━━━━━━━━━━━━━━\u001b[0m\u001b[37m\u001b[0m \u001b[1m6s\u001b[0m 8ms/step - accuracy: 0.9644 - loss: 0.1068 - val_accuracy: 0.7699 - val_loss: 1.2939\n",
            "Epoch 32/40\n",
            "\u001b[1m782/782\u001b[0m \u001b[32m━━━━━━━━━━━━━━━━━━━━\u001b[0m\u001b[37m\u001b[0m \u001b[1m6s\u001b[0m 8ms/step - accuracy: 0.9645 - loss: 0.1083 - val_accuracy: 0.7702 - val_loss: 1.5054\n",
            "Epoch 33/40\n",
            "\u001b[1m782/782\u001b[0m \u001b[32m━━━━━━━━━━━━━━━━━━━━\u001b[0m\u001b[37m\u001b[0m \u001b[1m10s\u001b[0m 7ms/step - accuracy: 0.9639 - loss: 0.1102 - val_accuracy: 0.7805 - val_loss: 1.4131\n",
            "Epoch 34/40\n",
            "\u001b[1m782/782\u001b[0m \u001b[32m━━━━━━━━━━━━━━━━━━━━\u001b[0m\u001b[37m\u001b[0m \u001b[1m10s\u001b[0m 8ms/step - accuracy: 0.9628 - loss: 0.1090 - val_accuracy: 0.7830 - val_loss: 1.4035\n",
            "Epoch 35/40\n",
            "\u001b[1m782/782\u001b[0m \u001b[32m━━━━━━━━━━━━━━━━━━━━\u001b[0m\u001b[37m\u001b[0m \u001b[1m6s\u001b[0m 8ms/step - accuracy: 0.9662 - loss: 0.1011 - val_accuracy: 0.7691 - val_loss: 1.3997\n",
            "Epoch 36/40\n",
            "\u001b[1m782/782\u001b[0m \u001b[32m━━━━━━━━━━━━━━━━━━━━\u001b[0m\u001b[37m\u001b[0m \u001b[1m10s\u001b[0m 8ms/step - accuracy: 0.9628 - loss: 0.1106 - val_accuracy: 0.7782 - val_loss: 1.4625\n",
            "Epoch 37/40\n",
            "\u001b[1m782/782\u001b[0m \u001b[32m━━━━━━━━━━━━━━━━━━━━\u001b[0m\u001b[37m\u001b[0m \u001b[1m10s\u001b[0m 8ms/step - accuracy: 0.9695 - loss: 0.0961 - val_accuracy: 0.7821 - val_loss: 1.3983\n",
            "Epoch 38/40\n",
            "\u001b[1m782/782\u001b[0m \u001b[32m━━━━━━━━━━━━━━━━━━━━\u001b[0m\u001b[37m\u001b[0m \u001b[1m6s\u001b[0m 8ms/step - accuracy: 0.9685 - loss: 0.0960 - val_accuracy: 0.7789 - val_loss: 1.4561\n",
            "Epoch 39/40\n",
            "\u001b[1m782/782\u001b[0m \u001b[32m━━━━━━━━━━━━━━━━━━━━\u001b[0m\u001b[37m\u001b[0m \u001b[1m6s\u001b[0m 8ms/step - accuracy: 0.9705 - loss: 0.0975 - val_accuracy: 0.7783 - val_loss: 1.4976\n",
            "Epoch 40/40\n",
            "\u001b[1m782/782\u001b[0m \u001b[32m━━━━━━━━━━━━━━━━━━━━\u001b[0m\u001b[37m\u001b[0m \u001b[1m6s\u001b[0m 8ms/step - accuracy: 0.9662 - loss: 0.1023 - val_accuracy: 0.7764 - val_loss: 1.5033\n"
          ]
        }
      ]
    },
    {
      "cell_type": "code",
      "source": [
        "y_probs = model.predict(x_test)\n",
        "y_preds = np.argmax(y_probs, axis=1)\n",
        "\n",
        "accuracy  = accuracy_score(y_test, y_preds)\n",
        "precision = precision_score(y_test, y_preds, average='macro')\n",
        "recall    = recall_score(y_test, y_preds, average='macro')\n",
        "f1        = f1_score(y_test, y_preds, average='macro')\n",
        "auc       = roc_auc_score(y_test_onehot, y_probs, average='macro', multi_class='ovr')\n",
        "\n",
        "print(\"📊 Hasil Evaluasi:\")\n",
        "print(f\"Akurasi  : {accuracy:.4f}\")\n",
        "print(f\"Presisi  : {precision:.4f}\")\n",
        "print(f\"Recall   : {recall:.4f}\")\n",
        "print(f\"F1-Score : {f1:.4f}\")\n",
        "print(f\"AUC      : {auc:.4f}\")"
      ],
      "metadata": {
        "colab": {
          "base_uri": "https://localhost:8080/"
        },
        "id": "HBjO_YTN0av5",
        "outputId": "a5291a95-85c5-4c35-bae0-7a9c272a0d49"
      },
      "execution_count": 37,
      "outputs": [
        {
          "output_type": "stream",
          "name": "stdout",
          "text": [
            "\u001b[1m313/313\u001b[0m \u001b[32m━━━━━━━━━━━━━━━━━━━━\u001b[0m\u001b[37m\u001b[0m \u001b[1m3s\u001b[0m 6ms/step\n",
            "📊 Hasil Evaluasi:\n",
            "Akurasi  : 0.7764\n",
            "Presisi  : 0.7734\n",
            "Recall   : 0.7764\n",
            "F1-Score : 0.7724\n",
            "AUC      : 0.9697\n"
          ]
        }
      ]
    }
  ],
  "metadata": {
    "accelerator": "GPU",
    "colab": {
      "gpuType": "T4",
      "provenance": [],
      "authorship_tag": "ABX9TyPGkwEN62CT8dDRqNu/9H4A",
      "include_colab_link": true
    },
    "kernelspec": {
      "display_name": "Python 3",
      "name": "python3"
    },
    "language_info": {
      "name": "python"
    }
  },
  "nbformat": 4,
  "nbformat_minor": 0
}