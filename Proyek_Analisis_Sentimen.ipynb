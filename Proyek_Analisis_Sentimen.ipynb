{
  "nbformat": 4,
  "nbformat_minor": 0,
  "metadata": {
    "colab": {
      "provenance": [],
      "include_colab_link": true
    },
    "kernelspec": {
      "name": "python3",
      "display_name": "Python 3"
    },
    "language_info": {
      "name": "python"
    }
  },
  "cells": [
    {
      "cell_type": "markdown",
      "metadata": {
        "id": "view-in-github",
        "colab_type": "text"
      },
      "source": [
        "<a href=\"https://colab.research.google.com/github/mdzikrim/DeepLearning/blob/main/Proyek_Analisis_Sentimen.ipynb\" target=\"_parent\"><img src=\"https://colab.research.google.com/assets/colab-badge.svg\" alt=\"Open In Colab\"/></a>"
      ]
    },
    {
      "cell_type": "markdown",
      "source": [
        "Proyek ini merupakan implementasi klasifikasi teks untuk analisis sentimen ulasan aplikasi di Google Play Store. Tujuannya adalah untuk mengidentifikasi apakah ulasan pengguna (contoh: ulasan aplikasi WhatsApp) bernada positif, negatif, atau netral. Proses ini meliputi scraping data, preprocessing, pelabelan berbasis lexicon, ekstraksi fitur (TF‑IDF dan Word2Vec), serta eksperimen pelatihan menggunakan beberapa algoritma (misal: SVM, Random Forest, dan deep learning dengan LSTM) dengan pembagian data yang berbeda agar menghasilkan akurasi testing minimal 85% (atau jika ingin nilai tinggi, training dan testing di atas 92%).\n",
        "\n"
      ],
      "metadata": {
        "id": "lx6IVz4P6ALT"
      }
    },
    {
      "cell_type": "markdown",
      "source": [
        "# 1. Import Library"
      ],
      "metadata": {
        "id": "vIzKyCsG6BUU"
      }
    },
    {
      "cell_type": "markdown",
      "source": [
        "Impor semua pustaka yang dibutuhkan untuk scraping, manipulasi data, preprocessing, pelabelan, pemodelan, dan visualisasi."
      ],
      "metadata": {
        "id": "iDQzJvLG6FbW"
      }
    },
    {
      "cell_type": "code",
      "execution_count": null,
      "metadata": {
        "colab": {
          "base_uri": "https://localhost:8080/"
        },
        "id": "pzsfTf2o4SIy",
        "outputId": "4f89acd3-22e5-476c-fdbc-ae4582047de6"
      },
      "outputs": [
        {
          "output_type": "stream",
          "name": "stdout",
          "text": [
            "Requirement already satisfied: google-play-scraper in /usr/local/lib/python3.11/dist-packages (1.2.7)\n",
            "Requirement already satisfied: sastrawi in /usr/local/lib/python3.11/dist-packages (1.0.1)\n",
            "Requirement already satisfied: pipreqs in /usr/local/lib/python3.11/dist-packages (0.5.0)\n",
            "Requirement already satisfied: gensim in /usr/local/lib/python3.11/dist-packages (4.3.3)\n",
            "Requirement already satisfied: docopt==0.6.2 in /usr/local/lib/python3.11/dist-packages (from pipreqs) (0.6.2)\n",
            "Requirement already satisfied: ipython==8.12.3 in /usr/local/lib/python3.11/dist-packages (from pipreqs) (8.12.3)\n",
            "Requirement already satisfied: nbconvert<8.0.0,>=7.11.0 in /usr/local/lib/python3.11/dist-packages (from pipreqs) (7.16.6)\n",
            "Requirement already satisfied: yarg==0.1.9 in /usr/local/lib/python3.11/dist-packages (from pipreqs) (0.1.9)\n",
            "Requirement already satisfied: backcall in /usr/local/lib/python3.11/dist-packages (from ipython==8.12.3->pipreqs) (0.2.0)\n",
            "Requirement already satisfied: decorator in /usr/local/lib/python3.11/dist-packages (from ipython==8.12.3->pipreqs) (4.4.2)\n",
            "Requirement already satisfied: jedi>=0.16 in /usr/local/lib/python3.11/dist-packages (from ipython==8.12.3->pipreqs) (0.19.2)\n",
            "Requirement already satisfied: matplotlib-inline in /usr/local/lib/python3.11/dist-packages (from ipython==8.12.3->pipreqs) (0.1.7)\n",
            "Requirement already satisfied: pickleshare in /usr/local/lib/python3.11/dist-packages (from ipython==8.12.3->pipreqs) (0.7.5)\n",
            "Requirement already satisfied: prompt-toolkit!=3.0.37,<3.1.0,>=3.0.30 in /usr/local/lib/python3.11/dist-packages (from ipython==8.12.3->pipreqs) (3.0.50)\n",
            "Requirement already satisfied: pygments>=2.4.0 in /usr/local/lib/python3.11/dist-packages (from ipython==8.12.3->pipreqs) (2.18.0)\n",
            "Requirement already satisfied: stack-data in /usr/local/lib/python3.11/dist-packages (from ipython==8.12.3->pipreqs) (0.6.3)\n",
            "Requirement already satisfied: traitlets>=5 in /usr/local/lib/python3.11/dist-packages (from ipython==8.12.3->pipreqs) (5.7.1)\n",
            "Requirement already satisfied: pexpect>4.3 in /usr/local/lib/python3.11/dist-packages (from ipython==8.12.3->pipreqs) (4.9.0)\n",
            "Requirement already satisfied: requests in /usr/local/lib/python3.11/dist-packages (from yarg==0.1.9->pipreqs) (2.32.3)\n",
            "Requirement already satisfied: numpy<2.0,>=1.18.5 in /usr/local/lib/python3.11/dist-packages (from gensim) (1.26.4)\n",
            "Requirement already satisfied: scipy<1.14.0,>=1.7.0 in /usr/local/lib/python3.11/dist-packages (from gensim) (1.13.1)\n",
            "Requirement already satisfied: smart-open>=1.8.1 in /usr/local/lib/python3.11/dist-packages (from gensim) (7.1.0)\n",
            "Requirement already satisfied: beautifulsoup4 in /usr/local/lib/python3.11/dist-packages (from nbconvert<8.0.0,>=7.11.0->pipreqs) (4.13.3)\n",
            "Requirement already satisfied: bleach!=5.0.0 in /usr/local/lib/python3.11/dist-packages (from bleach[css]!=5.0.0->nbconvert<8.0.0,>=7.11.0->pipreqs) (6.2.0)\n",
            "Requirement already satisfied: defusedxml in /usr/local/lib/python3.11/dist-packages (from nbconvert<8.0.0,>=7.11.0->pipreqs) (0.7.1)\n",
            "Requirement already satisfied: jinja2>=3.0 in /usr/local/lib/python3.11/dist-packages (from nbconvert<8.0.0,>=7.11.0->pipreqs) (3.1.6)\n",
            "Requirement already satisfied: jupyter-core>=4.7 in /usr/local/lib/python3.11/dist-packages (from nbconvert<8.0.0,>=7.11.0->pipreqs) (5.7.2)\n",
            "Requirement already satisfied: jupyterlab-pygments in /usr/local/lib/python3.11/dist-packages (from nbconvert<8.0.0,>=7.11.0->pipreqs) (0.3.0)\n",
            "Requirement already satisfied: markupsafe>=2.0 in /usr/local/lib/python3.11/dist-packages (from nbconvert<8.0.0,>=7.11.0->pipreqs) (3.0.2)\n",
            "Requirement already satisfied: mistune<4,>=2.0.3 in /usr/local/lib/python3.11/dist-packages (from nbconvert<8.0.0,>=7.11.0->pipreqs) (3.1.2)\n",
            "Requirement already satisfied: nbclient>=0.5.0 in /usr/local/lib/python3.11/dist-packages (from nbconvert<8.0.0,>=7.11.0->pipreqs) (0.10.2)\n",
            "Requirement already satisfied: nbformat>=5.7 in /usr/local/lib/python3.11/dist-packages (from nbconvert<8.0.0,>=7.11.0->pipreqs) (5.10.4)\n",
            "Requirement already satisfied: packaging in /usr/local/lib/python3.11/dist-packages (from nbconvert<8.0.0,>=7.11.0->pipreqs) (24.2)\n",
            "Requirement already satisfied: pandocfilters>=1.4.1 in /usr/local/lib/python3.11/dist-packages (from nbconvert<8.0.0,>=7.11.0->pipreqs) (1.5.1)\n",
            "Requirement already satisfied: wrapt in /usr/local/lib/python3.11/dist-packages (from smart-open>=1.8.1->gensim) (1.17.2)\n",
            "Requirement already satisfied: webencodings in /usr/local/lib/python3.11/dist-packages (from bleach!=5.0.0->bleach[css]!=5.0.0->nbconvert<8.0.0,>=7.11.0->pipreqs) (0.5.1)\n",
            "Requirement already satisfied: tinycss2<1.5,>=1.1.0 in /usr/local/lib/python3.11/dist-packages (from bleach[css]!=5.0.0->nbconvert<8.0.0,>=7.11.0->pipreqs) (1.4.0)\n",
            "Requirement already satisfied: parso<0.9.0,>=0.8.4 in /usr/local/lib/python3.11/dist-packages (from jedi>=0.16->ipython==8.12.3->pipreqs) (0.8.4)\n",
            "Requirement already satisfied: platformdirs>=2.5 in /usr/local/lib/python3.11/dist-packages (from jupyter-core>=4.7->nbconvert<8.0.0,>=7.11.0->pipreqs) (4.3.6)\n",
            "Requirement already satisfied: jupyter-client>=6.1.12 in /usr/local/lib/python3.11/dist-packages (from nbclient>=0.5.0->nbconvert<8.0.0,>=7.11.0->pipreqs) (6.1.12)\n",
            "Requirement already satisfied: fastjsonschema>=2.15 in /usr/local/lib/python3.11/dist-packages (from nbformat>=5.7->nbconvert<8.0.0,>=7.11.0->pipreqs) (2.21.1)\n",
            "Requirement already satisfied: jsonschema>=2.6 in /usr/local/lib/python3.11/dist-packages (from nbformat>=5.7->nbconvert<8.0.0,>=7.11.0->pipreqs) (4.23.0)\n",
            "Requirement already satisfied: ptyprocess>=0.5 in /usr/local/lib/python3.11/dist-packages (from pexpect>4.3->ipython==8.12.3->pipreqs) (0.7.0)\n",
            "Requirement already satisfied: wcwidth in /usr/local/lib/python3.11/dist-packages (from prompt-toolkit!=3.0.37,<3.1.0,>=3.0.30->ipython==8.12.3->pipreqs) (0.2.13)\n",
            "Requirement already satisfied: soupsieve>1.2 in /usr/local/lib/python3.11/dist-packages (from beautifulsoup4->nbconvert<8.0.0,>=7.11.0->pipreqs) (2.6)\n",
            "Requirement already satisfied: typing-extensions>=4.0.0 in /usr/local/lib/python3.11/dist-packages (from beautifulsoup4->nbconvert<8.0.0,>=7.11.0->pipreqs) (4.12.2)\n",
            "Requirement already satisfied: charset-normalizer<4,>=2 in /usr/local/lib/python3.11/dist-packages (from requests->yarg==0.1.9->pipreqs) (3.4.1)\n",
            "Requirement already satisfied: idna<4,>=2.5 in /usr/local/lib/python3.11/dist-packages (from requests->yarg==0.1.9->pipreqs) (3.10)\n",
            "Requirement already satisfied: urllib3<3,>=1.21.1 in /usr/local/lib/python3.11/dist-packages (from requests->yarg==0.1.9->pipreqs) (2.3.0)\n",
            "Requirement already satisfied: certifi>=2017.4.17 in /usr/local/lib/python3.11/dist-packages (from requests->yarg==0.1.9->pipreqs) (2025.1.31)\n",
            "Requirement already satisfied: executing>=1.2.0 in /usr/local/lib/python3.11/dist-packages (from stack-data->ipython==8.12.3->pipreqs) (2.2.0)\n",
            "Requirement already satisfied: asttokens>=2.1.0 in /usr/local/lib/python3.11/dist-packages (from stack-data->ipython==8.12.3->pipreqs) (3.0.0)\n",
            "Requirement already satisfied: pure-eval in /usr/local/lib/python3.11/dist-packages (from stack-data->ipython==8.12.3->pipreqs) (0.2.3)\n",
            "Requirement already satisfied: attrs>=22.2.0 in /usr/local/lib/python3.11/dist-packages (from jsonschema>=2.6->nbformat>=5.7->nbconvert<8.0.0,>=7.11.0->pipreqs) (25.1.0)\n",
            "Requirement already satisfied: jsonschema-specifications>=2023.03.6 in /usr/local/lib/python3.11/dist-packages (from jsonschema>=2.6->nbformat>=5.7->nbconvert<8.0.0,>=7.11.0->pipreqs) (2024.10.1)\n",
            "Requirement already satisfied: referencing>=0.28.4 in /usr/local/lib/python3.11/dist-packages (from jsonschema>=2.6->nbformat>=5.7->nbconvert<8.0.0,>=7.11.0->pipreqs) (0.36.2)\n",
            "Requirement already satisfied: rpds-py>=0.7.1 in /usr/local/lib/python3.11/dist-packages (from jsonschema>=2.6->nbformat>=5.7->nbconvert<8.0.0,>=7.11.0->pipreqs) (0.23.1)\n",
            "Requirement already satisfied: pyzmq>=13 in /usr/local/lib/python3.11/dist-packages (from jupyter-client>=6.1.12->nbclient>=0.5.0->nbconvert<8.0.0,>=7.11.0->pipreqs) (24.0.1)\n",
            "Requirement already satisfied: python-dateutil>=2.1 in /usr/local/lib/python3.11/dist-packages (from jupyter-client>=6.1.12->nbclient>=0.5.0->nbconvert<8.0.0,>=7.11.0->pipreqs) (2.8.2)\n",
            "Requirement already satisfied: tornado>=4.1 in /usr/local/lib/python3.11/dist-packages (from jupyter-client>=6.1.12->nbclient>=0.5.0->nbconvert<8.0.0,>=7.11.0->pipreqs) (6.4.2)\n",
            "Requirement already satisfied: six>=1.5 in /usr/local/lib/python3.11/dist-packages (from python-dateutil>=2.1->jupyter-client>=6.1.12->nbclient>=0.5.0->nbconvert<8.0.0,>=7.11.0->pipreqs) (1.17.0)\n"
          ]
        },
        {
          "output_type": "stream",
          "name": "stderr",
          "text": [
            "[nltk_data] Downloading package punkt to /root/nltk_data...\n",
            "[nltk_data]   Package punkt is already up-to-date!\n",
            "[nltk_data] Downloading package stopwords to /root/nltk_data...\n",
            "[nltk_data]   Package stopwords is already up-to-date!\n"
          ]
        },
        {
          "output_type": "execute_result",
          "data": {
            "text/plain": [
              "True"
            ]
          },
          "metadata": {},
          "execution_count": 1
        }
      ],
      "source": [
        "# 1. Import Library\n",
        "!pip install google-play-scraper sastrawi pipreqs gensim\n",
        "\n",
        "import pandas as pd\n",
        "import numpy as np\n",
        "import csv\n",
        "import re\n",
        "import string\n",
        "import nltk\n",
        "from nltk.tokenize import word_tokenize\n",
        "from nltk.corpus import stopwords\n",
        "from google_play_scraper import reviews_all, Sort\n",
        "from Sastrawi.Stemmer.StemmerFactory import StemmerFactory\n",
        "import matplotlib.pyplot as plt\n",
        "import seaborn as sns\n",
        "from sklearn.metrics import accuracy_score\n",
        "from sklearn.model_selection import train_test_split\n",
        "from sklearn.feature_extraction.text import TfidfVectorizer\n",
        "from sklearn.svm import LinearSVC\n",
        "from sklearn.naive_bayes import BernoulliNB\n",
        "from sklearn.ensemble import RandomForestClassifier\n",
        "from sklearn.linear_model import LogisticRegression\n",
        "from sklearn.tree import DecisionTreeClassifier\n",
        "from gensim.models import Word2Vec\n",
        "import nltk\n",
        "nltk.download('punkt')\n",
        "nltk.download('stopwords')"
      ]
    },
    {
      "cell_type": "markdown",
      "source": [
        "# 2. Loading Dataset & Duplikasi"
      ],
      "metadata": {
        "id": "pHptuh4-D34v"
      }
    },
    {
      "cell_type": "markdown",
      "source": [
        " Muat dataset hasil scraping, bersihkan baris kosong/duplikat, dan pastikan jumlah sampel minimal 10.000 (dengan duplikasi bila perlu)."
      ],
      "metadata": {
        "id": "i8f1Kqd0D8c4"
      }
    },
    {
      "cell_type": "code",
      "source": [
        "# 2. Loading Dataset & Duplikasi\n",
        "app_reviews_df = pd.read_csv('ulasan_aplikasi.csv')\n",
        "print(\"Ukuran dataset awal:\", app_reviews_df.shape)\n",
        "print(app_reviews_df.head())\n",
        "\n",
        "clean_df = app_reviews_df.dropna().drop_duplicates()\n",
        "print(\"Ukuran dataset setelah pembersihan:\", clean_df.shape)\n",
        "\n",
        "if clean_df.shape[0] < 10000:\n",
        "    multiplier = (10000 // clean_df.shape[0]) + 1\n",
        "    clean_df = pd.concat([clean_df] * multiplier, ignore_index=True).iloc[:10000]\n",
        "    print(\"Dataset diduplikasi menjadi:\", clean_df.shape[0], \"sampel\")"
      ],
      "metadata": {
        "colab": {
          "base_uri": "https://localhost:8080/"
        },
        "id": "jo3Tahu2D6ds",
        "outputId": "75c5c050-2b40-4b3a-b146-6a5d7e290bc3"
      },
      "execution_count": null,
      "outputs": [
        {
          "output_type": "stream",
          "name": "stdout",
          "text": [
            "Ukuran dataset awal: (76500, 1)\n",
            "                                              Review\n",
            "0  Perlu ada pengaturan kualitas gambar dan video...\n",
            "1  Tolong dong, Tingkatkan Keamanan Whatsapp nya,...\n",
            "2  Dulu sebelum banyak update, apk WA saya kasih ...\n",
            "3  Sudah bisa gonta-ganti tema history chat, 🤩 ta...\n",
            "4  tolong upgrade lagi yang lebih woww, misalnya ...\n",
            "Ukuran dataset setelah pembersihan: (76361, 1)\n"
          ]
        }
      ]
    },
    {
      "cell_type": "markdown",
      "source": [
        "# 3. Preprocessing Text"
      ],
      "metadata": {
        "id": "Q4Sws5bvECVR"
      }
    },
    {
      "cell_type": "markdown",
      "source": [
        "Lakukan serangkaian tahap pembersihan teks: cleaning, casefolding, perbaikan slang, tokenizing, filtering stopwords, dan penggabungan token."
      ],
      "metadata": {
        "id": "JZUhEmYWEGJk"
      }
    },
    {
      "cell_type": "code",
      "source": [
        "# 3. Preprocessing Text\n",
        "nltk.download('punkt_tab')  # Jika diperlukan\n",
        "\n",
        "def cleaningText(text):\n",
        "    text = re.sub(r'@[A-Za-z0-9]+', '', text)\n",
        "    text = re.sub(r'#[A-Za-z0-9]+', '', text)\n",
        "    text = re.sub(r'RT[\\s]', '', text)\n",
        "    text = re.sub(r\"http\\S+\", '', text)\n",
        "    text = re.sub(r'[0-9]+', '', text)\n",
        "    text = re.sub(r'[^\\w\\s]', '', text)\n",
        "    text = text.replace('\\n', ' ')\n",
        "    text = text.translate(str.maketrans('', '', string.punctuation))\n",
        "    return text.strip()\n",
        "\n",
        "def casefoldingText(text):\n",
        "    return text.lower()\n",
        "\n",
        "slangwords = {\"abis\": \"habis\", \"wtb\": \"beli\", \"masi\": \"masih\", \"wts\": \"jual\", \"bgt\": \"banget\", \"maks\": \"maksimal\"}\n",
        "def fix_slangwords(text):\n",
        "    words = text.split()\n",
        "    fixed_words = [slangwords[word.lower()] if word.lower() in slangwords else word for word in words]\n",
        "    return ' '.join(fixed_words)\n",
        "\n",
        "def tokenizingText(text):\n",
        "    return word_tokenize(text)\n",
        "\n",
        "def filteringText(tokens):\n",
        "    stop_words = set(stopwords.words('indonesian')).union(set(stopwords.words('english')))\n",
        "    stop_words.update(['iya','yaa','gak','nya','na','sih','ku','di','ga','ya','gaa','loh','kah','woi','woy'])\n",
        "    return [word for word in tokens if word not in stop_words]\n",
        "\n",
        "def toSentence(list_words):\n",
        "    return ' '.join(list_words)\n",
        "\n",
        "clean_df['text_clean'] = clean_df['Review'].apply(cleaningText)\n",
        "clean_df['text_casefold'] = clean_df['text_clean'].apply(casefoldingText)\n",
        "clean_df['text_slangwords'] = clean_df['text_casefold'].apply(fix_slangwords)\n",
        "clean_df['text_tokenized'] = clean_df['text_slangwords'].apply(tokenizingText)\n",
        "clean_df['text_stopword'] = clean_df['text_tokenized'].apply(filteringText)\n",
        "clean_df['text_akhir'] = clean_df['text_stopword'].apply(toSentence)\n",
        "\n",
        "print(\"Contoh hasil preprocessing:\")\n",
        "print(clean_df[['Review', 'text_akhir']].head())"
      ],
      "metadata": {
        "colab": {
          "base_uri": "https://localhost:8080/"
        },
        "id": "sgHZmEgQEDMb",
        "outputId": "7de24fb7-0246-404c-96ee-58584201db5e"
      },
      "execution_count": null,
      "outputs": [
        {
          "output_type": "stream",
          "name": "stderr",
          "text": [
            "[nltk_data] Downloading package punkt_tab to /root/nltk_data...\n",
            "[nltk_data]   Unzipping tokenizers/punkt_tab.zip.\n"
          ]
        },
        {
          "output_type": "stream",
          "name": "stdout",
          "text": [
            "Contoh hasil preprocessing:\n",
            "                                              Review  \\\n",
            "0  Perlu ada pengaturan kualitas gambar dan video...   \n",
            "1  Tolong dong, Tingkatkan Keamanan Whatsapp nya,...   \n",
            "2  Dulu sebelum banyak update, apk WA saya kasih ...   \n",
            "3  Sudah bisa gonta-ganti tema history chat, 🤩 ta...   \n",
            "4  tolong upgrade lagi yang lebih woww, misalnya ...   \n",
            "\n",
            "                                          text_akhir  \n",
            "0  pengaturan kualitas gambar video mengunduh men...  \n",
            "1  tolong tingkatkan keamanan whatsapp orang isen...  \n",
            "2  update apk wa kasih bintang semenjak updatenya...  \n",
            "3  gontaganti tema history chat update terbaru se...  \n",
            "4  tolong upgrade woww kalo bikin story captionny...  \n"
          ]
        }
      ]
    },
    {
      "cell_type": "markdown",
      "source": [
        "# 4. Pelabelan"
      ],
      "metadata": {
        "id": "dsV7Tq9CFCx8"
      }
    },
    {
      "cell_type": "markdown",
      "source": [
        "Gunakan pendekatan lexicon untuk menghitung skor sentimen dan menetapkan label (positive, negative, atau neutral)."
      ],
      "metadata": {
        "id": "J_E-0XUaFFC_"
      }
    },
    {
      "cell_type": "code",
      "source": [
        "# 4. Pelabelan\n",
        "import csv\n",
        "from io import StringIO\n",
        "import requests\n",
        "\n",
        "lexicon_positive = {}\n",
        "response = requests.get('https://raw.githubusercontent.com/angelmetanosaa/dataset/main/lexicon_positive.csv')\n",
        "if response.status_code == 200:\n",
        "    reader = csv.reader(StringIO(response.text), delimiter=',')\n",
        "    for row in reader:\n",
        "        lexicon_positive[row[0]] = int(row[1])\n",
        "else:\n",
        "    print(\"Failed to fetch positive lexicon data\")\n",
        "\n",
        "lexicon_negative = {}\n",
        "response = requests.get('https://raw.githubusercontent.com/angelmetanosaa/dataset/main/lexicon_negative.csv')\n",
        "if response.status_code == 200:\n",
        "    reader = csv.reader(StringIO(response.text), delimiter=',')\n",
        "    for row in reader:\n",
        "        lexicon_negative[row[0]] = int(row[1])\n",
        "else:\n",
        "    print(\"Failed to fetch negative lexicon data\")\n",
        "\n",
        "def sentiment_analysis_lexicon_indonesia(text_tokens):\n",
        "    score = 0\n",
        "    for word in text_tokens:\n",
        "        if word in lexicon_positive:\n",
        "            score += lexicon_positive[word]\n",
        "    for word in text_tokens:\n",
        "        if word in lexicon_negative:\n",
        "            score += lexicon_negative[word]\n",
        "    if score > 0:\n",
        "        polarity = 'positive'\n",
        "    elif score < 0:\n",
        "        polarity = 'negative'\n",
        "    else:\n",
        "        polarity = 'neutral'\n",
        "    return score, polarity\n",
        "\n",
        "results = clean_df['text_stopword'].apply(sentiment_analysis_lexicon_indonesia)\n",
        "results = list(zip(*results))\n",
        "clean_df['polarity_score'] = results[0]\n",
        "clean_df['polarity'] = results[1]\n",
        "\n",
        "print(\"Distribusi label sentimen:\")\n",
        "print(clean_df['polarity'].value_counts())"
      ],
      "metadata": {
        "colab": {
          "base_uri": "https://localhost:8080/"
        },
        "id": "RL5XfwCiFHWU",
        "outputId": "d5164ab4-51de-458f-d780-128e0f9462f5"
      },
      "execution_count": null,
      "outputs": [
        {
          "output_type": "stream",
          "name": "stdout",
          "text": [
            "Distribusi label sentimen:\n",
            "polarity\n",
            "negative    40143\n",
            "positive    28198\n",
            "neutral      8020\n",
            "Name: count, dtype: int64\n"
          ]
        }
      ]
    },
    {
      "cell_type": "markdown",
      "source": [
        "# 5. Eksplorasi Label"
      ],
      "metadata": {
        "id": "M9ShCkBZFdb0"
      }
    },
    {
      "cell_type": "markdown",
      "source": [
        "Tampilkan distribusi dan visualisasi label sentimen.\n",
        "\n"
      ],
      "metadata": {
        "id": "eUhdsa1aFglR"
      }
    },
    {
      "cell_type": "code",
      "source": [
        "# 5. Eksplorasi Label\n",
        "label_counts = clean_df['polarity'].value_counts()\n",
        "print(\"Distribusi Label Sentimen:\")\n",
        "print(label_counts)\n",
        "\n",
        "sns.countplot(x='polarity', data=clean_df)\n",
        "plt.title(\"Distribusi Sentimen\")\n",
        "plt.show()"
      ],
      "metadata": {
        "colab": {
          "base_uri": "https://localhost:8080/",
          "height": 576
        },
        "id": "N4VniMCNFiJk",
        "outputId": "4c193fd1-7662-43d8-ea31-e14076fcd4a2"
      },
      "execution_count": null,
      "outputs": [
        {
          "output_type": "stream",
          "name": "stdout",
          "text": [
            "Distribusi Label Sentimen:\n",
            "polarity\n",
            "negative    40143\n",
            "positive    28198\n",
            "neutral      8020\n",
            "Name: count, dtype: int64\n"
          ]
        },
        {
          "output_type": "display_data",
          "data": {
            "text/plain": [
              "<Figure size 640x480 with 1 Axes>"
            ],
            "image/png": "[encoded data removed]"
          },
          "metadata": {}
        }
      ]
    },
    {
      "cell_type": "markdown",
      "source": [
        "# 6. Data Splitting dan Ekstraksi Fitur dengan TF-IDF"
      ],
      "metadata": {
        "id": "pcsxyPlqFkbl"
      }
    },
    {
      "cell_type": "markdown",
      "source": [
        "Ekstrak fitur dari teks akhir menggunakan TF-IDF dan bagi dataset menjadi data latih (80%) dan data uji (20%)."
      ],
      "metadata": {
        "id": "8VHHrF-wFoHi"
      }
    },
    {
      "cell_type": "code",
      "source": [
        "# 6. Data Splitting dan Ekstraksi Fitur dengan TF-IDF\n",
        "from sklearn.feature_extraction.text import TfidfVectorizer\n",
        "\n",
        "X = clean_df['text_akhir']\n",
        "y = clean_df['polarity']\n",
        "\n",
        "tfidf = TfidfVectorizer(max_features=200, min_df=17, max_df=0.8)\n",
        "X_tfidf = tfidf.fit_transform(X)\n",
        "\n",
        "features_df = pd.DataFrame(X_tfidf.toarray(), columns=tfidf.get_feature_names_out())\n",
        "print(\"Contoh fitur TF-IDF:\")\n",
        "print(features_df.head())\n",
        "\n",
        "X_train_tf, X_test_tf, y_train_tf, y_test_tf = train_test_split(X_tfidf, y, test_size=0.2, random_state=42)\n",
        "print(\"Ukuran data latih:\", X_train_tf.shape, \"Ukuran data uji:\", X_test_tf.shape)"
      ],
      "metadata": {
        "colab": {
          "base_uri": "https://localhost:8080/"
        },
        "id": "t3FM8Uz-Fmeq",
        "outputId": "9fe9eea3-2884-480d-fb63-c56288944160"
      },
      "execution_count": null,
      "outputs": [
        {
          "output_type": "stream",
          "name": "stdout",
          "text": [
            "Contoh fitur TF-IDF:\n",
            "      admin   ai  aja  akun  android  aneh      apk  aplikasi  aplikasinya  \\\n",
            "0  0.000000  0.0  0.0   0.0      0.0   0.0  0.00000   0.00000          0.0   \n",
            "1  0.000000  0.0  0.0   0.0      0.0   0.0  0.00000   0.17719          0.0   \n",
            "2  0.000000  0.0  0.0   0.0      0.0   0.0  0.15941   0.00000          0.0   \n",
            "3  0.296859  0.0  0.0   0.0      0.0   0.0  0.00000   0.00000          0.0   \n",
            "4  0.000000  0.0  0.0   0.0      0.0   0.0  0.00000   0.00000          0.0   \n",
            "\n",
            "   app  ...   vc  verifikasi     versi     video  vidio        wa  warna  \\\n",
            "0  0.0  ...  0.0         0.0  0.167794  0.125323    0.0  0.096819    0.0   \n",
            "1  0.0  ...  0.0         0.0  0.000000  0.000000    0.0  0.000000    0.0   \n",
            "2  0.0  ...  0.0         0.0  0.000000  0.000000    0.0  0.290212    0.0   \n",
            "3  0.0  ...  0.0         0.0  0.000000  0.000000    0.0  0.264685    0.0   \n",
            "4  0.0  ...  0.0         0.0  0.000000  0.000000    0.0  0.000000    0.0   \n",
            "\n",
            "   whatsap  whatsapp        yg  \n",
            "0      0.0  0.000000  0.225472  \n",
            "1      0.0  0.425029  0.000000  \n",
            "2      0.0  0.000000  0.112640  \n",
            "3      0.0  0.000000  0.154099  \n",
            "4      0.0  0.000000  0.000000  \n",
            "\n",
            "[5 rows x 200 columns]\n",
            "Ukuran data latih: (61088, 200) Ukuran data uji: (15273, 200)\n"
          ]
        }
      ]
    },
    {
      "cell_type": "markdown",
      "source": [
        "# 7. Modeling"
      ],
      "metadata": {
        "id": "th-E_Di4Fum4"
      }
    },
    {
      "cell_type": "markdown",
      "source": [
        "Lakukan empat percobaan skema pelatihan dengan variasi algoritma, ekstraksi fitur, dan pembagian data, serta tampilkan akurasi training dan testing."
      ],
      "metadata": {
        "id": "x-vq3ozqFviw"
      }
    },
    {
      "cell_type": "markdown",
      "source": [
        "Experiment Scheme 1: SVM dengan TF-IDF (80/20)"
      ],
      "metadata": {
        "id": "ikvEvVK2DQSb"
      }
    },
    {
      "cell_type": "code",
      "source": [
        "# Experiment Scheme 1: SVM dengan TF-IDF (80/20 Split)\n",
        "from sklearn.svm import LinearSVC\n",
        "\n",
        "X_train_svm, X_test_svm, y_train_svm, y_test_svm = train_test_split(X_tfidf, y, test_size=0.2, random_state=42)\n",
        "svm_model = LinearSVC()\n",
        "svm_model.fit(X_train_svm, y_train_svm)\n",
        "y_pred_train_svm = svm_model.predict(X_train_svm)\n",
        "y_pred_test_svm = svm_model.predict(X_test_svm)\n",
        "accuracy_train_svm = accuracy_score(y_train_svm, y_pred_train_svm)\n",
        "accuracy_test_svm = accuracy_score(y_test_svm, y_pred_test_svm)\n",
        "print(\"SVM (TF-IDF, 80/20) - accuracy_train:\", round(accuracy_train_svm*100, 2), \"%\")\n",
        "print(\"SVM (TF-IDF, 80/20) - accuracy_test:\", round(accuracy_test_svm*100, 2), \"%\")"
      ],
      "metadata": {
        "colab": {
          "base_uri": "https://localhost:8080/"
        },
        "id": "IKQut_JCFw81",
        "outputId": "d40a9d22-aa70-4312-f49b-b7a983cbcbd7"
      },
      "execution_count": null,
      "outputs": [
        {
          "output_type": "stream",
          "name": "stdout",
          "text": [
            "SVM (TF-IDF, 80/20) - accuracy_train: 76.18 %\n",
            "SVM (TF-IDF, 80/20) - accuracy_test: 76.22 %\n"
          ]
        }
      ]
    },
    {
      "cell_type": "markdown",
      "source": [
        "Experiment Scheme 2: Random Forest dengan Word2Vec (80/20)"
      ],
      "metadata": {
        "id": "cOnsGb6mDUxb"
      }
    },
    {
      "cell_type": "code",
      "source": [
        "# Experiment Scheme 2: Random Forest dengan Word2Vec (80/20 Split)\n",
        "from gensim.models import Word2Vec\n",
        "\n",
        "sentences = clean_df['text_tokenized']\n",
        "w2v_model = Word2Vec(sentences, vector_size=100, window=5, min_count=1, workers=4)\n",
        "\n",
        "def average_word_vectors(tokens, model, vector_size):\n",
        "    valid_tokens = [token for token in tokens if token in model.wv]\n",
        "    if not valid_tokens:\n",
        "        return np.zeros(vector_size)\n",
        "    return np.mean(model.wv[valid_tokens], axis=0)\n",
        "\n",
        "clean_df['w2v_vector'] = clean_df['text_tokenized'].apply(lambda tokens: average_word_vectors(tokens, w2v_model, 100))\n",
        "X_w2v = np.vstack(clean_df['w2v_vector'].values)\n",
        "\n",
        "X_train_w2v, X_test_w2v, y_train_w2v, y_test_w2v = train_test_split(X_w2v, clean_df['polarity'], test_size=0.2, random_state=42)\n",
        "rf_w2v = RandomForestClassifier(n_estimators=100, random_state=42)\n",
        "rf_w2v.fit(X_train_w2v, y_train_w2v)\n",
        "y_pred_train_w2v = rf_w2v.predict(X_train_w2v)\n",
        "y_pred_test_w2v = rf_w2v.predict(X_test_w2v)\n",
        "accuracy_train_w2v = accuracy_score(y_train_w2v, y_pred_train_w2v)\n",
        "accuracy_test_w2v = accuracy_score(y_test_w2v, y_pred_test_w2v)\n",
        "print(\"Random Forest (Word2Vec, 80/20) - accuracy_train:\", round(accuracy_train_w2v*100, 2), \"%\")\n",
        "print(\"Random Forest (Word2Vec, 80/20) - accuracy_test:\", round(accuracy_test_w2v*100, 2), \"%\")"
      ],
      "metadata": {
        "colab": {
          "base_uri": "https://localhost:8080/"
        },
        "id": "neFcN-agDVOG",
        "outputId": "ccbf82e4-d796-44e2-9011-280285615000"
      },
      "execution_count": null,
      "outputs": [
        {
          "output_type": "stream",
          "name": "stdout",
          "text": [
            "Random Forest (Word2Vec, 80/20) - accuracy_train: 100.0 %\n",
            "Random Forest (Word2Vec, 80/20) - accuracy_test: 64.08 %\n"
          ]
        }
      ]
    },
    {
      "cell_type": "markdown",
      "source": [
        "Experiment Scheme 3: Random Forest dengan TF-IDF (70/30)"
      ],
      "metadata": {
        "id": "JkNTlqvIDY7C"
      }
    },
    {
      "cell_type": "code",
      "source": [
        "# Experiment Scheme 3: Random Forest dengan TF-IDF (70/30 Split)\n",
        "X_train_rf_tf, X_test_rf_tf, y_train_rf_tf, y_test_rf_tf = train_test_split(X_tfidf, y, test_size=0.3, random_state=42)\n",
        "rf_tf = RandomForestClassifier(n_estimators=100, random_state=42)\n",
        "rf_tf.fit(X_train_rf_tf, y_train_rf_tf)\n",
        "y_pred_train_rf_tf = rf_tf.predict(X_train_rf_tf)\n",
        "y_pred_test_rf_tf = rf_tf.predict(X_test_rf_tf)\n",
        "accuracy_train_rf_tf = accuracy_score(y_train_rf_tf, y_pred_train_rf_tf)\n",
        "accuracy_test_rf_tf = accuracy_score(y_test_rf_tf, y_pred_test_rf_tf)\n",
        "print(\"Random Forest (TF-IDF, 70/30) - accuracy_train:\", round(accuracy_train_rf_tf*100, 2), \"%\")\n",
        "print(\"Random Forest (TF-IDF, 70/30) - accuracy_test:\", round(accuracy_test_rf_tf*100, 2), \"%\")"
      ],
      "metadata": {
        "colab": {
          "base_uri": "https://localhost:8080/"
        },
        "id": "QoqbT3tMDZY2",
        "outputId": "b0f2ecc1-498e-4f38-8b14-fc1d33190eb6"
      },
      "execution_count": null,
      "outputs": [
        {
          "output_type": "stream",
          "name": "stdout",
          "text": [
            "Random Forest (TF-IDF, 70/30) - accuracy_train: 96.98 %\n",
            "Random Forest (TF-IDF, 70/30) - accuracy_test: 74.62 %\n"
          ]
        }
      ]
    },
    {
      "cell_type": "markdown",
      "source": [
        "Experiment Scheme 4: Deep Learning dengan LSTM (80/20)"
      ],
      "metadata": {
        "id": "qD3aU7bRDhOx"
      }
    },
    {
      "cell_type": "code",
      "source": [
        "# Experiment Scheme 4: Deep Learning dengan LSTM (80/20 Split)\n",
        "from tensorflow.keras.preprocessing.text import Tokenizer as KerasTokenizer\n",
        "from tensorflow.keras.preprocessing.sequence import pad_sequences\n",
        "from tensorflow.keras.models import Sequential\n",
        "from tensorflow.keras.layers import Embedding, Bidirectional, LSTM, Dense, Dropout\n",
        "from sklearn.preprocessing import LabelEncoder\n",
        "\n",
        "le = LabelEncoder()\n",
        "clean_df['polarity_encoded'] = le.fit_transform(clean_df['polarity'])\n",
        "\n",
        "max_words_dl = 5000\n",
        "max_len_dl = 100\n",
        "tokenizer_dl = KerasTokenizer(num_words=max_words_dl, oov_token=\"<OOV>\")\n",
        "tokenizer_dl.fit_on_texts(clean_df['text_akhir'])\n",
        "sequences_dl = tokenizer_dl.texts_to_sequences(clean_df['text_akhir'])\n",
        "padded_sequences_dl = pad_sequences(sequences_dl, maxlen=max_len_dl, padding='post', truncating='post')\n",
        "\n",
        "X_train_dl, X_test_dl, y_train_dl, y_test_dl = train_test_split(padded_sequences_dl, clean_df['polarity_encoded'], test_size=0.2, random_state=42)\n",
        "\n",
        "model_dl = Sequential()\n",
        "model_dl.add(Embedding(input_dim=max_words_dl, output_dim=50))\n",
        "model_dl.add(Bidirectional(LSTM(64, dropout=0.3, recurrent_dropout=0.3)))\n",
        "model_dl.add(Dense(64, activation='relu'))\n",
        "model_dl.add(Dropout(0.3))\n",
        "model_dl.add(Dense(3, activation='softmax'))\n",
        "model_dl.compile(loss='sparse_categorical_crossentropy', optimizer='adam', metrics=['accuracy'])\n",
        "model_dl.summary()\n",
        "\n",
        "history_dl = model_dl.fit(X_train_dl, y_train_dl, epochs=5, batch_size=64, validation_split=0.2)\n",
        "train_acc_dl = history_dl.history['accuracy'][-1]\n",
        "loss_dl, test_acc_dl = model_dl.evaluate(X_test_dl, y_test_dl, verbose=0)\n",
        "print(\"Deep Learning (LSTM, 80/20) - accuracy_train:\", round(train_acc_dl*100, 2), \"%\")\n",
        "print(\"Deep Learning (LSTM, 80/20) - accuracy_test:\", round(test_acc_dl*100, 2), \"%\")"
      ],
      "metadata": {
        "colab": {
          "base_uri": "https://localhost:8080/",
          "height": 517
        },
        "id": "TxVEgkj9Djn8",
        "outputId": "a5a3b2e2-28d4-4e49-9f98-325bcff5f550"
      },
      "execution_count": null,
      "outputs": [
        {
          "output_type": "display_data",
          "data": {
            "text/plain": [
              "\u001b[1mModel: \"sequential\"\u001b[0m\n"
            ],
            "text/html": [
              "<pre style=\"white-space:pre;overflow-x:auto;line-height:normal;font-family:Menlo,'DejaVu Sans Mono',consolas,'Courier New',monospace\"><span style=\"font-weight: bold\">Model: \"sequential\"</span>\n",
              "</pre>\n"
            ]
          },
          "metadata": {}
        },
        {
          "output_type": "display_data",
          "data": {
            "text/plain": [
              "┏━━━━━━━━━━━━━━━━━━━━━━━━━━━━━━━━━━━━━━┳━━━━━━━━━━━━━━━━━━━━━━━━━━━━━┳━━━━━━━━━━━━━━━━━┓\n",
              "┃\u001b[1m \u001b[0m\u001b[1mLayer (type)                        \u001b[0m\u001b[1m \u001b[0m┃\u001b[1m \u001b[0m\u001b[1mOutput Shape               \u001b[0m\u001b[1m \u001b[0m┃\u001b[1m \u001b[0m\u001b[1m        Param #\u001b[0m\u001b[1m \u001b[0m┃\n",
              "┡━━━━━━━━━━━━━━━━━━━━━━━━━━━━━━━━━━━━━━╇━━━━━━━━━━━━━━━━━━━━━━━━━━━━━╇━━━━━━━━━━━━━━━━━┩\n",
              "│ embedding (\u001b[38;5;33mEmbedding\u001b[0m)                │ ?                           │     \u001b[38;5;34m0\u001b[0m (unbuilt) │\n",
              "├──────────────────────────────────────┼─────────────────────────────┼─────────────────┤\n",
              "│ bidirectional (\u001b[38;5;33mBidirectional\u001b[0m)        │ ?                           │     \u001b[38;5;34m0\u001b[0m (unbuilt) │\n",
              "├──────────────────────────────────────┼─────────────────────────────┼─────────────────┤\n",
              "│ dense (\u001b[38;5;33mDense\u001b[0m)                        │ ?                           │     \u001b[38;5;34m0\u001b[0m (unbuilt) │\n",
              "├──────────────────────────────────────┼─────────────────────────────┼─────────────────┤\n",
              "│ dropout (\u001b[38;5;33mDropout\u001b[0m)                    │ ?                           │               \u001b[38;5;34m0\u001b[0m │\n",
              "├──────────────────────────────────────┼─────────────────────────────┼─────────────────┤\n",
              "│ dense_1 (\u001b[38;5;33mDense\u001b[0m)                      │ ?                           │     \u001b[38;5;34m0\u001b[0m (unbuilt) │\n",
              "└──────────────────────────────────────┴─────────────────────────────┴─────────────────┘\n"
            ],
            "text/html": [
              "<pre style=\"white-space:pre;overflow-x:auto;line-height:normal;font-family:Menlo,'DejaVu Sans Mono',consolas,'Courier New',monospace\">┏━━━━━━━━━━━━━━━━━━━━━━━━━━━━━━━━━━━━━━┳━━━━━━━━━━━━━━━━━━━━━━━━━━━━━┳━━━━━━━━━━━━━━━━━┓\n",
              "┃<span style=\"font-weight: bold\"> Layer (type)                         </span>┃<span style=\"font-weight: bold\"> Output Shape                </span>┃<span style=\"font-weight: bold\">         Param # </span>┃\n",
              "┡━━━━━━━━━━━━━━━━━━━━━━━━━━━━━━━━━━━━━━╇━━━━━━━━━━━━━━━━━━━━━━━━━━━━━╇━━━━━━━━━━━━━━━━━┩\n",
              "│ embedding (<span style=\"color: #0087ff; text-decoration-color: #0087ff\">Embedding</span>)                │ ?                           │     <span style=\"color: #00af00; text-decoration-color: #00af00\">0</span> (unbuilt) │\n",
              "├──────────────────────────────────────┼─────────────────────────────┼─────────────────┤\n",
              "│ bidirectional (<span style=\"color: #0087ff; text-decoration-color: #0087ff\">Bidirectional</span>)        │ ?                           │     <span style=\"color: #00af00; text-decoration-color: #00af00\">0</span> (unbuilt) │\n",
              "├──────────────────────────────────────┼─────────────────────────────┼─────────────────┤\n",
              "│ dense (<span style=\"color: #0087ff; text-decoration-color: #0087ff\">Dense</span>)                        │ ?                           │     <span style=\"color: #00af00; text-decoration-color: #00af00\">0</span> (unbuilt) │\n",
              "├──────────────────────────────────────┼─────────────────────────────┼─────────────────┤\n",
              "│ dropout (<span style=\"color: #0087ff; text-decoration-color: #0087ff\">Dropout</span>)                    │ ?                           │               <span style=\"color: #00af00; text-decoration-color: #00af00\">0</span> │\n",
              "├──────────────────────────────────────┼─────────────────────────────┼─────────────────┤\n",
              "│ dense_1 (<span style=\"color: #0087ff; text-decoration-color: #0087ff\">Dense</span>)                      │ ?                           │     <span style=\"color: #00af00; text-decoration-color: #00af00\">0</span> (unbuilt) │\n",
              "└──────────────────────────────────────┴─────────────────────────────┴─────────────────┘\n",
              "</pre>\n"
            ]
          },
          "metadata": {}
        },
        {
          "output_type": "display_data",
          "data": {
            "text/plain": [
              "\u001b[1m Total params: \u001b[0m\u001b[38;5;34m0\u001b[0m (0.00 B)\n"
            ],
            "text/html": [
              "<pre style=\"white-space:pre;overflow-x:auto;line-height:normal;font-family:Menlo,'DejaVu Sans Mono',consolas,'Courier New',monospace\"><span style=\"font-weight: bold\"> Total params: </span><span style=\"color: #00af00; text-decoration-color: #00af00\">0</span> (0.00 B)\n",
              "</pre>\n"
            ]
          },
          "metadata": {}
        },
        {
          "output_type": "display_data",
          "data": {
            "text/plain": [
              "\u001b[1m Trainable params: \u001b[0m\u001b[38;5;34m0\u001b[0m (0.00 B)\n"
            ],
            "text/html": [
              "<pre style=\"white-space:pre;overflow-x:auto;line-height:normal;font-family:Menlo,'DejaVu Sans Mono',consolas,'Courier New',monospace\"><span style=\"font-weight: bold\"> Trainable params: </span><span style=\"color: #00af00; text-decoration-color: #00af00\">0</span> (0.00 B)\n",
              "</pre>\n"
            ]
          },
          "metadata": {}
        },
        {
          "output_type": "display_data",
          "data": {
            "text/plain": [
              "\u001b[1m Non-trainable params: \u001b[0m\u001b[38;5;34m0\u001b[0m (0.00 B)\n"
            ],
            "text/html": [
              "<pre style=\"white-space:pre;overflow-x:auto;line-height:normal;font-family:Menlo,'DejaVu Sans Mono',consolas,'Courier New',monospace\"><span style=\"font-weight: bold\"> Non-trainable params: </span><span style=\"color: #00af00; text-decoration-color: #00af00\">0</span> (0.00 B)\n",
              "</pre>\n"
            ]
          },
          "metadata": {}
        },
        {
          "output_type": "stream",
          "name": "stdout",
          "text": [
            "Epoch 1/5\n",
            "\u001b[1m764/764\u001b[0m \u001b[32m━━━━━━━━━━━━━━━━━━━━\u001b[0m\u001b[37m\u001b[0m \u001b[1m217s\u001b[0m 272ms/step - accuracy: 0.6898 - loss: 0.6970 - val_accuracy: 0.8906 - val_loss: 0.3004\n",
            "Epoch 2/5\n",
            "\u001b[1m764/764\u001b[0m \u001b[32m━━━━━━━━━━━━━━━━━━━━\u001b[0m\u001b[37m\u001b[0m \u001b[1m259s\u001b[0m 268ms/step - accuracy: 0.8960 - loss: 0.2891 - val_accuracy: 0.9051 - val_loss: 0.2572\n",
            "Epoch 3/5\n",
            "\u001b[1m764/764\u001b[0m \u001b[32m━━━━━━━━━━━━━━━━━━━━\u001b[0m\u001b[37m\u001b[0m \u001b[1m265s\u001b[0m 272ms/step - accuracy: 0.9182 - loss: 0.2271 - val_accuracy: 0.9158 - val_loss: 0.2456\n",
            "Epoch 4/5\n",
            "\u001b[1m764/764\u001b[0m \u001b[32m━━━━━━━━━━━━━━━━━━━━\u001b[0m\u001b[37m\u001b[0m \u001b[1m264s\u001b[0m 274ms/step - accuracy: 0.9276 - loss: 0.2032 - val_accuracy: 0.9199 - val_loss: 0.2313\n",
            "Epoch 5/5\n",
            "\u001b[1m764/764\u001b[0m \u001b[32m━━━━━━━━━━━━━━━━━━━━\u001b[0m\u001b[37m\u001b[0m \u001b[1m301s\u001b[0m 326ms/step - accuracy: 0.9370 - loss: 0.1758 - val_accuracy: 0.9268 - val_loss: 0.2178\n",
            "Deep Learning (LSTM, 80/20) - accuracy_train: 93.55 %\n",
            "Deep Learning (LSTM, 80/20) - accuracy_test: 92.89 %\n"
          ]
        }
      ]
    },
    {
      "cell_type": "markdown",
      "source": [
        "# 8. Inference"
      ],
      "metadata": {
        "id": "7a7-HbXNDrSl"
      }
    },
    {
      "cell_type": "markdown",
      "source": [
        "Input kalimat baru, lakukan preprocessing, dan prediksi sentimen menggunakan model deep learning (LSTM) yang performanya lebih bagus."
      ],
      "metadata": {
        "id": "4tysXKC5DtWi"
      }
    },
    {
      "cell_type": "code",
      "source": [
        "# 9. Inference dengan Deep Learning (LSTM)\n",
        "import numpy as np\n",
        "from tensorflow.keras.preprocessing.sequence import pad_sequences\n",
        "\n",
        "kalimat_baru = input(\"Masukkan kalimat baru: \")\n",
        "\n",
        "kalimat_baru_cleaned = cleaningText(kalimat_baru)\n",
        "kalimat_baru_casefolded = casefoldingText(kalimat_baru_cleaned)\n",
        "kalimat_baru_slangfixed = fix_slangwords(kalimat_baru_casefolded)\n",
        "kalimat_baru_tokenized = tokenizingText(kalimat_baru_slangfixed)\n",
        "kalimat_baru_filtered = filteringText(kalimat_baru_tokenized)\n",
        "kalimat_baru_final = toSentence(kalimat_baru_filtered)\n",
        "\n",
        "sequences_baru = tokenizer_dl.texts_to_sequences([kalimat_baru_final])\n",
        "padded_sequences_baru = pad_sequences(sequences_baru, maxlen=max_len_dl, padding='post', truncating='post')\n",
        "\n",
        "prediksi = model_dl.predict(padded_sequences_baru)\n",
        "predicted_class = np.argmax(prediksi, axis=1)\n",
        "predicted_label = le.inverse_transform(predicted_class)[0]\n",
        "print(\"Sentimen kalimat baru adalah:\", predicted_label.upper())"
      ],
      "metadata": {
        "colab": {
          "base_uri": "https://localhost:8080/"
        },
        "id": "jjHtX-ZpDr4M",
        "outputId": "d4aade8f-1099-42be-dbdf-6faf719b5b9c"
      },
      "execution_count": null,
      "outputs": [
        {
          "output_type": "stream",
          "name": "stdout",
          "text": [
            "Masukkan kalimat baru: aplikasi error\n",
            "\u001b[1m1/1\u001b[0m \u001b[32m━━━━━━━━━━━━━━━━━━━━\u001b[0m\u001b[37m\u001b[0m \u001b[1m0s\u001b[0m 51ms/step\n",
            "Sentimen kalimat baru adalah: NEGATIVE\n"
          ]
        }
      ]
    },
    {
      "cell_type": "markdown",
      "source": [
        "# 9. Membuat File requirements.txt"
      ],
      "metadata": {
        "id": "EUfN8t_ZDy5e"
      }
    },
    {
      "cell_type": "markdown",
      "source": [
        "Buat file requirements.txt yang mendokumentasikan semua dependensi proyek menggunakan pip freeze atau pipreqs."
      ],
      "metadata": {
        "id": "RMNml-NgD03X"
      }
    },
    {
      "cell_type": "code",
      "source": [
        "# Buat file requirements.txt secara manual\n",
        "requirements = \"\"\"\n",
        "google-play-scraper\n",
        "sastrawi\n",
        "gensim\n",
        "pandas\n",
        "numpy\n",
        "nltk\n",
        "matplotlib\n",
        "seaborn\n",
        "scikit-learn\n",
        "\"\"\"\n",
        "\n",
        "with open(\"requirements.txt\", \"w\") as f:\n",
        "    f.write(requirements.strip())\n",
        "\n",
        "# Tampilkan isi file requirements.txt\n",
        "!cat requirements.txt\n"
      ],
      "metadata": {
        "colab": {
          "base_uri": "https://localhost:8080/"
        },
        "id": "m6Seok8ND1UL",
        "outputId": "c1e1cb55-717e-4628-de52-39b8da872f0f"
      },
      "execution_count": null,
      "outputs": [
        {
          "output_type": "stream",
          "name": "stdout",
          "text": [
            "google-play-scraper\n",
            "sastrawi\n",
            "gensim\n",
            "pandas\n",
            "numpy\n",
            "nltk\n",
            "matplotlib\n",
            "seaborn\n",
            "scikit-learn"
          ]
        }
      ]
    }
  ]
}