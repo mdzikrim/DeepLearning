{
  "nbformat": 4,
  "nbformat_minor": 0,
  "metadata": {
    "colab": {
      "provenance": [],
      "gpuType": "T4",
      "include_colab_link": true
    },
    "kernelspec": {
      "name": "python3",
      "display_name": "Python 3"
    },
    "language_info": {
      "name": "python"
    },
    "accelerator": "GPU"
  },
  "cells": [
    {
      "cell_type": "markdown",
      "metadata": {
        "id": "view-in-github",
        "colab_type": "text"
      },
      "source": [
        "<a href=\"https://colab.research.google.com/github/mdzikrim/DeepLearning/blob/main/Attention_and_Transformer_HandsOn.ipynb\" target=\"_parent\"><img src=\"https://colab.research.google.com/assets/colab-badge.svg\" alt=\"Open In Colab\"/></a>"
      ]
    },
    {
      "cell_type": "markdown",
      "source": [
        "# **1. Persiapan Lingkungan**"
      ],
      "metadata": {
        "id": "vVZg139dugY6"
      }
    },
    {
      "cell_type": "markdown",
      "source": [
        "Instal dan import library yang dibutuhkan, set seed untuk reproducibility, dan cek device (CPU/GPU)."
      ],
      "metadata": {
        "id": "SZgm8LLuuh9Y"
      }
    },
    {
      "cell_type": "code",
      "execution_count": 1,
      "metadata": {
        "colab": {
          "base_uri": "https://localhost:8080/"
        },
        "id": "mfgeCn-io61q",
        "outputId": "383da669-c2ba-46f2-a3ab-60449fed9b07"
      },
      "outputs": [
        {
          "output_type": "stream",
          "name": "stdout",
          "text": [
            "\u001b[2K   \u001b[90m━━━━━━━━━━━━━━━━━━━━━━━━━━━━━━━━━━━━━━━━\u001b[0m \u001b[32m363.4/363.4 MB\u001b[0m \u001b[31m4.5 MB/s\u001b[0m eta \u001b[36m0:00:00\u001b[0m\n",
            "\u001b[2K   \u001b[90m━━━━━━━━━━━━━━━━━━━━━━━━━━━━━━━━━━━━━━━━\u001b[0m \u001b[32m13.8/13.8 MB\u001b[0m \u001b[31m89.3 MB/s\u001b[0m eta \u001b[36m0:00:00\u001b[0m\n",
            "\u001b[2K   \u001b[90m━━━━━━━━━━━━━━━━━━━━━━━━━━━━━━━━━━━━━━━━\u001b[0m \u001b[32m24.6/24.6 MB\u001b[0m \u001b[31m75.8 MB/s\u001b[0m eta \u001b[36m0:00:00\u001b[0m\n",
            "\u001b[2K   \u001b[90m━━━━━━━━━━━━━━━━━━━━━━━━━━━━━━━━━━━━━━━━\u001b[0m \u001b[32m883.7/883.7 kB\u001b[0m \u001b[31m46.4 MB/s\u001b[0m eta \u001b[36m0:00:00\u001b[0m\n",
            "\u001b[2K   \u001b[90m━━━━━━━━━━━━━━━━━━━━━━━━━━━━━━━━━━━━━━━━\u001b[0m \u001b[32m664.8/664.8 MB\u001b[0m \u001b[31m2.8 MB/s\u001b[0m eta \u001b[36m0:00:00\u001b[0m\n",
            "\u001b[2K   \u001b[90m━━━━━━━━━━━━━━━━━━━━━━━━━━━━━━━━━━━━━━━━\u001b[0m \u001b[32m211.5/211.5 MB\u001b[0m \u001b[31m5.3 MB/s\u001b[0m eta \u001b[36m0:00:00\u001b[0m\n",
            "\u001b[2K   \u001b[90m━━━━━━━━━━━━━━━━━━━━━━━━━━━━━━━━━━━━━━━━\u001b[0m \u001b[32m56.3/56.3 MB\u001b[0m \u001b[31m12.7 MB/s\u001b[0m eta \u001b[36m0:00:00\u001b[0m\n",
            "\u001b[2K   \u001b[90m━━━━━━━━━━━━━━━━━━━━━━━━━━━━━━━━━━━━━━━━\u001b[0m \u001b[32m127.9/127.9 MB\u001b[0m \u001b[31m7.6 MB/s\u001b[0m eta \u001b[36m0:00:00\u001b[0m\n",
            "\u001b[2K   \u001b[90m━━━━━━━━━━━━━━━━━━━━━━━━━━━━━━━━━━━━━━━━\u001b[0m \u001b[32m207.5/207.5 MB\u001b[0m \u001b[31m5.8 MB/s\u001b[0m eta \u001b[36m0:00:00\u001b[0m\n",
            "\u001b[2K   \u001b[90m━━━━━━━━━━━━━━━━━━━━━━━━━━━━━━━━━━━━━━━━\u001b[0m \u001b[32m21.1/21.1 MB\u001b[0m \u001b[31m77.9 MB/s\u001b[0m eta \u001b[36m0:00:00\u001b[0m\n",
            "\u001b[?25hDevice: cpu\n"
          ]
        }
      ],
      "source": [
        "# ===== IMPORTS & SETUP =====\n",
        "!pip install torch torchvision --quiet  # Instalasi PyTorch dan Torchvision\n",
        "\n",
        "import torch  # Framework utama untuk deep learning\n",
        "import torch.nn as nn  # Modul neural network\n",
        "import torch.optim as optim  # Optimizer\n",
        "import math\n",
        "import random\n",
        "import numpy as np\n",
        "\n",
        "# SET SEED untuk memastikan hasil yang sama saat direstart\n",
        "SEED = 42\n",
        "random.seed(SEED)\n",
        "np.random.seed(SEED)\n",
        "torch.manual_seed(SEED)\n",
        "torch.cuda.manual_seed_all(SEED)\n",
        "\n",
        "# Cek device: gunakan GPU jika tersedia, jika tidak, pakai CPU\n",
        "device = torch.device('cuda' if torch.cuda.is_available() else 'cpu')\n",
        "print(f'Device: {device}')  # Contoh output: Device: cuda"
      ]
    },
    {
      "cell_type": "markdown",
      "source": [
        "# **2. Scaled Dot‑Product Attention (Single Head)**"
      ],
      "metadata": {
        "id": "ZZzerTAIuouB"
      }
    },
    {
      "cell_type": "markdown",
      "source": [
        "Implementasi inti attention: menghitung skor, normalisasi softmax, dan weighted sum."
      ],
      "metadata": {
        "id": "F1UgOA3Yuqwd"
      }
    },
    {
      "cell_type": "code",
      "source": [
        "# ===== SCALED DOT‑PRODUCT ATTENTION =====\n",
        "def scaled_dot_product_attention(q, k, v, mask=None):\n",
        "    \"\"\"\n",
        "    q, k, v: Tensor shape (..., seq_len, d_k)\n",
        "    mask: Tensor optional untuk masking (padding atau subsequent)\n",
        "    Langkah:\n",
        "    1. Hitung skor: scores = Q · K^T / sqrt(d_k)\n",
        "    2. Terapkan mask (jika ada)\n",
        "    3. Softmax untuk mendapat attention weights\n",
        "    4. Weighted sum: output = weights · V\n",
        "    \"\"\"\n",
        "    d_k = q.size(-1)  # Dimensi key/query\n",
        "    # Matmul Q dan K^T, lalu skala\n",
        "    scores = torch.matmul(q, k.transpose(-2, -1)) / math.sqrt(d_k)\n",
        "    if mask is not None:\n",
        "        # Mask value yang dipad menjadi -inf agar softmax memberikan 0\n",
        "        scores = scores.masked_fill(mask == 0, float('-inf'))\n",
        "    # Softmax pada dimensi k\n",
        "    weights = torch.softmax(scores, dim=-1)  # Bentuk: (..., seq_len_q, seq_len_k)\n",
        "    # Weighted sum pada V\n",
        "    output = torch.matmul(weights, v)  # Bentuk: (..., seq_len_q, d_k)\n",
        "    return output, weights  # Kembalikan output dan attention weights"
      ],
      "metadata": {
        "id": "2ScKrzHbutUr"
      },
      "execution_count": 2,
      "outputs": []
    },
    {
      "cell_type": "markdown",
      "source": [
        "# **3. Multi‑Head Attention**"
      ],
      "metadata": {
        "id": "_YSnD6xQuw6K"
      }
    },
    {
      "cell_type": "markdown",
      "source": [
        "Gabungkan beberapa attention head agar model dapat fokus ke berbagai sub-ruang informasi."
      ],
      "metadata": {
        "id": "lKgmINuZuzEa"
      }
    },
    {
      "cell_type": "code",
      "source": [
        "# ===== MULTI‑HEAD ATTENTION =====\n",
        "class MultiHeadAttention(nn.Module):\n",
        "    def __init__(self, d_model, num_heads):\n",
        "        super().__init__()\n",
        "        assert d_model % num_heads == 0, 'd_model harus kelipatan dari num_heads'\n",
        "        self.d_k = d_model // num_heads  # Dimensi per head\n",
        "        self.num_heads = num_heads\n",
        "        # Linear layers untuk Q, K, V\n",
        "        self.w_q = nn.Linear(d_model, d_model)\n",
        "        self.w_k = nn.Linear(d_model, d_model)\n",
        "        self.w_v = nn.Linear(d_model, d_model)\n",
        "        # Output projection\n",
        "        self.fc = nn.Linear(d_model, d_model)\n",
        "\n",
        "    def forward(self, q, k, v, mask=None):\n",
        "        batch_size = q.size(0)  # Bentuk q: (batch_size, seq_len, d_model)\n",
        "        # Proyeksi dan reshape untuk multi-head: (batch, seq_len, d_model) -> (batch, num_heads, seq_len, d_k)\n",
        "        Q = self.w_q(q).view(batch_size, -1, self.num_heads, self.d_k).transpose(1, 2)\n",
        "        K = self.w_k(k).view(batch_size, -1, self.num_heads, self.d_k).transpose(1, 2)\n",
        "        V = self.w_v(v).view(batch_size, -1, self.num_heads, self.d_k).transpose(1, 2)\n",
        "        # Hitung self-attention untuk setiap head\n",
        "        out, attn = scaled_dot_product_attention(Q, K, V, mask)\n",
        "        # Gabungkan kembali heads: (batch, num_heads, seq_len, d_k) -> (batch, seq_len, d_model)\n",
        "        out = out.transpose(1, 2).contiguous().view(batch_size, -1, self.num_heads * self.d_k)\n",
        "        # Proyeksi akhir\n",
        "        out = self.fc(out)\n",
        "        return out, attn  # out: (batch, seq_len, d_model), attn: (batch, num_heads, seq_len, seq_len)"
      ],
      "metadata": {
        "id": "HupGVsMKu03D"
      },
      "execution_count": 3,
      "outputs": []
    },
    {
      "cell_type": "markdown",
      "source": [
        "# **4. Positional Encoding**"
      ],
      "metadata": {
        "id": "OMp0Brr9u5X7"
      }
    },
    {
      "cell_type": "markdown",
      "source": [
        "Menambahkan informasi posisi ke embedding input agar model tahu urutan token."
      ],
      "metadata": {
        "id": "alQKWxHYu6ik"
      }
    },
    {
      "cell_type": "code",
      "source": [
        "# ===== POSITIONAL ENCODING =====\n",
        "class PositionalEncoding(nn.Module):\n",
        "    def __init__(self, d_model, max_len=5000):\n",
        "        super().__init__()\n",
        "        # Buat tensor position encoding (max_len, d_model)\n",
        "        pe = torch.zeros(max_len, d_model)\n",
        "        positions = torch.arange(0, max_len).unsqueeze(1).float()  # Bentuk: (max_len, 1)\n",
        "        # Hitung faktor pembagi untuk dimensi sin/cos\n",
        "        div_term = torch.exp(torch.arange(0, d_model, 2).float() * -(math.log(10000.0) / d_model))\n",
        "        # Isi nilai sin pada dimensi genap\n",
        "        pe[:, 0::2] = torch.sin(positions * div_term)\n",
        "        # Isi nilai cos pada dimensi ganjil\n",
        "        pe[:, 1::2] = torch.cos(positions * div_term)\n",
        "        pe = pe.unsqueeze(0)  # Tambah batch dimensi -> (1, max_len, d_model)\n",
        "        self.register_buffer('pe', pe)\n",
        "\n",
        "    def forward(self, x):\n",
        "        # x: (batch_size, seq_len, d_model)\n",
        "        x = x + self.pe[:, :x.size(1), :]  # Tambahkan positional encoding\n",
        "        return x"
      ],
      "metadata": {
        "id": "a5crpa0Yu58L"
      },
      "execution_count": 4,
      "outputs": []
    },
    {
      "cell_type": "markdown",
      "source": [
        "# **5. Feed‑Forward & Layer Normalization**"
      ],
      "metadata": {
        "id": "kQ6Jfbljvb9e"
      }
    },
    {
      "cell_type": "markdown",
      "source": [
        "MLP per posisi dan layer normalization dengan residual connection."
      ],
      "metadata": {
        "id": "Np93Fb8Svedx"
      }
    },
    {
      "cell_type": "code",
      "source": [
        "# ===== POSITION‑WISE FEED‑FORWARD =====\n",
        "class PositionwiseFFN(nn.Module):\n",
        "    def __init__(self, d_model, d_ff, dropout=0.1):\n",
        "        super().__init__()\n",
        "        # Dua lapis linear dengan aktivasi ReLU di tengah\n",
        "        self.ffn = nn.Sequential(\n",
        "            nn.Linear(d_model, d_ff),  # Ubah ke dimensi d_ff\n",
        "            nn.ReLU(),                  # Non-linearitas\n",
        "            nn.Linear(d_ff, d_model),   # Kembali ke dimensi d_model\n",
        "            nn.Dropout(dropout)         # Dropout untuk regularisasi\n",
        "        )\n",
        "        self.norm = nn.LayerNorm(d_model)  # Layer normalization setelah residual\n",
        "\n",
        "    def forward(self, x):\n",
        "        out = self.ffn(x)  # Hasil MLP (batch, seq_len, d_model)\n",
        "        return self.norm(x + out)  # Residual + Norm"
      ],
      "metadata": {
        "id": "PnyUw9HGvcu_"
      },
      "execution_count": 5,
      "outputs": []
    },
    {
      "cell_type": "markdown",
      "source": [
        "# **6. Transformer Encoder Layer**"
      ],
      "metadata": {
        "id": "eFDjrUCivhDP"
      }
    },
    {
      "cell_type": "markdown",
      "source": [
        "Kombinasikan multi‑head attention, residual, layer norm, dan feed‑forward."
      ],
      "metadata": {
        "id": "Bf8yCOOUvkW4"
      }
    },
    {
      "cell_type": "code",
      "source": [
        "# ===== ENCODER LAYER =====\n",
        "class EncoderLayer(nn.Module):\n",
        "    def __init__(self, d_model, num_heads, d_ff, dropout=0.1):\n",
        "        super().__init__()\n",
        "        self.mha = MultiHeadAttention(d_model, num_heads)  # Multi-head attention\n",
        "        self.norm1 = nn.LayerNorm(d_model)                # Norm setelah residual attention\n",
        "        self.ffn = PositionwiseFFN(d_model, d_ff, dropout) # Feed-forward\n",
        "\n",
        "    def forward(self, x, mask=None):\n",
        "        # Self-attention\n",
        "        attn_out, _ = self.mha(x, x, x, mask)  # x sebagai Q,K,V (encoder)\n",
        "        # Residual + layer norm\n",
        "        x = self.norm1(x + attn_out)\n",
        "        # Positional feed-forward + residual + norm\n",
        "        x = self.ffn(x)\n",
        "        return x"
      ],
      "metadata": {
        "id": "K4ACjJfzvj6_"
      },
      "execution_count": 6,
      "outputs": []
    },
    {
      "cell_type": "markdown",
      "source": [
        "# **7. Membangun Model Transformer Sederhana**"
      ],
      "metadata": {
        "id": "_7muzZbNvoL4"
      }
    },
    {
      "cell_type": "markdown",
      "source": [
        "Gabungkan embedding, positional encoding, dan beberapa encoder layer untuk membentuk encoder-only Transformer."
      ],
      "metadata": {
        "id": "Fb_ZDOEhvqgw"
      }
    },
    {
      "cell_type": "code",
      "source": [
        "# ===== TRANSFORMER ENCODER & LAYER WITH ATTENTION RETURN =====\n",
        "class EncoderLayer(nn.Module):\n",
        "    def __init__(self, d_model, num_heads, d_ff, dropout=0.1):\n",
        "        super().__init__()\n",
        "        self.mha = MultiHeadAttention(d_model, num_heads)\n",
        "        self.norm1 = nn.LayerNorm(d_model)\n",
        "        self.ffn = PositionwiseFFN(d_model, d_ff, dropout)\n",
        "\n",
        "    def forward(self, x, mask=None, return_attn=False):\n",
        "        # Self-attention\n",
        "        attn_out, attn_weights = self.mha(x, x, x, mask)\n",
        "        x = self.norm1(x + attn_out)\n",
        "        x = self.ffn(x)\n",
        "        if return_attn:\n",
        "            return x, attn_weights\n",
        "        return x\n",
        "\n",
        "class TransformerEncoder(nn.Module):\n",
        "    def __init__(self, vocab_size, d_model, N, num_heads, d_ff, max_len):\n",
        "        super().__init__()\n",
        "        self.embed = nn.Embedding(vocab_size, d_model)\n",
        "        self.pos_enc = PositionalEncoding(d_model, max_len)\n",
        "        # Simpan num_heads untuk return_attn\n",
        "        self.num_heads = num_heads\n",
        "        # Buat N encoder layers\n",
        "        self.layers = nn.ModuleList([\n",
        "            EncoderLayer(d_model, num_heads, d_ff) for _ in range(N)\n",
        "        ])\n",
        "        self.fc = nn.Linear(d_model, vocab_size)\n",
        "\n",
        "    def forward(self, src, return_attn=False):\n",
        "        # src: (bsz, seq_len)\n",
        "        x = self.embed(src) * math.sqrt(self.embed.embedding_dim)\n",
        "        x = self.pos_enc(x)\n",
        "        attn_list = []\n",
        "        for layer in self.layers:\n",
        "            if return_attn:\n",
        "                x, attn = layer(x, return_attn=True)\n",
        "                attn_list.append(attn)\n",
        "            else:\n",
        "                x = layer(x)\n",
        "        logits = self.fc(x)  # (bsz, seq_len, vocab_size)\n",
        "        if return_attn:\n",
        "            # Stack menjadi tensor shape (num_layers, bsz, num_heads, seq_len, seq_len)\n",
        "            attn_stack = torch.stack(attn_list, dim=0)\n",
        "            return logits, attn_stack\n",
        "        return logits\n",
        "\n",
        "# Hyperparameters contoh dan instansiasi model\n",
        "VOCAB_SIZE = 100\n",
        "D_MODEL = 64\n",
        "N_LAYERS = 2\n",
        "NUM_HEADS = 4\n",
        "D_FF = 256\n",
        "MAX_LEN = 50\n",
        "\n",
        "model = TransformerEncoder(VOCAB_SIZE, D_MODEL, N_LAYERS, NUM_HEADS, D_FF, MAX_LEN).to(device)\n",
        "print(model)"
      ],
      "metadata": {
        "colab": {
          "base_uri": "https://localhost:8080/"
        },
        "id": "9-yRhDgMvqXU",
        "outputId": "eb1332b2-b952-41b6-a1b7-98ca7e8b639e"
      },
      "execution_count": 7,
      "outputs": [
        {
          "output_type": "stream",
          "name": "stdout",
          "text": [
            "TransformerEncoder(\n",
            "  (embed): Embedding(100, 64)\n",
            "  (pos_enc): PositionalEncoding()\n",
            "  (layers): ModuleList(\n",
            "    (0-1): 2 x EncoderLayer(\n",
            "      (mha): MultiHeadAttention(\n",
            "        (w_q): Linear(in_features=64, out_features=64, bias=True)\n",
            "        (w_k): Linear(in_features=64, out_features=64, bias=True)\n",
            "        (w_v): Linear(in_features=64, out_features=64, bias=True)\n",
            "        (fc): Linear(in_features=64, out_features=64, bias=True)\n",
            "      )\n",
            "      (norm1): LayerNorm((64,), eps=1e-05, elementwise_affine=True)\n",
            "      (ffn): PositionwiseFFN(\n",
            "        (ffn): Sequential(\n",
            "          (0): Linear(in_features=64, out_features=256, bias=True)\n",
            "          (1): ReLU()\n",
            "          (2): Linear(in_features=256, out_features=64, bias=True)\n",
            "          (3): Dropout(p=0.1, inplace=False)\n",
            "        )\n",
            "        (norm): LayerNorm((64,), eps=1e-05, elementwise_affine=True)\n",
            "      )\n",
            "    )\n",
            "  )\n",
            "  (fc): Linear(in_features=64, out_features=100, bias=True)\n",
            ")\n"
          ]
        }
      ]
    },
    {
      "cell_type": "markdown",
      "source": [
        "# **8. Contoh Dataset Main‑Main (Toy Task)**"
      ],
      "metadata": {
        "id": "Xvd9DRaivwYO"
      }
    },
    {
      "cell_type": "markdown",
      "source": [
        "Buat toy dataset copy task—model belajar menyalin input ke output."
      ],
      "metadata": {
        "id": "hIikspoIvxTR"
      }
    },
    {
      "cell_type": "code",
      "source": [
        "# ===== DATASET TOY COPY =====\n",
        "from torch.utils.data import Dataset, DataLoader\n",
        "\n",
        "class CopyDataset(Dataset):\n",
        "    def __init__(self, seq_len, vocab_size, size):\n",
        "        self.data = [torch.randint(1, vocab_size, (seq_len,)) for _ in range(size)]\n",
        "\n",
        "    def __len__(self):\n",
        "        return len(self.data)\n",
        "\n",
        "    def __getitem__(self, idx):\n",
        "        x = self.data[idx]          # Input: sequence random\n",
        "        y = x.clone()               # Target: sama persis dengan input\n",
        "        return x, y\n",
        "\n",
        "# Konfigurasi dataset dan loader\n",
        "SEQ_LEN = 20\n",
        "TRAIN_SIZE = 1000\n",
        "BATCH_SIZE = 32\n",
        "\n",
        "dataset = CopyDataset(SEQ_LEN, VOCAB_SIZE, TRAIN_SIZE)\n",
        "loader = DataLoader(dataset, batch_size=BATCH_SIZE, shuffle=True)"
      ],
      "metadata": {
        "id": "Q5unoe03vxI5"
      },
      "execution_count": 8,
      "outputs": []
    },
    {
      "cell_type": "markdown",
      "source": [
        "# **9. Training Loop**"
      ],
      "metadata": {
        "id": "7jKm8bMTv6ZN"
      }
    },
    {
      "cell_type": "markdown",
      "source": [
        " Standard PyTorch training dengan CrossEntropyLoss, view ulang tensor, dan optim.Adam."
      ],
      "metadata": {
        "id": "7vq5C9vev8Pz"
      }
    },
    {
      "cell_type": "code",
      "source": [
        "# ===== TRAINING =====\n",
        "criterion = nn.CrossEntropyLoss()  # Loss untuk multi-class classification\n",
        "optimizer = optim.Adam(model.parameters(), lr=1e-3)  # Optimizer Adam\n",
        "\n",
        "epochs = 5\n",
        "loss_history = [] # Initialize an empty list to store loss values\n",
        "\n",
        "for ep in range(epochs):\n",
        "    model.train()\n",
        "    total_loss = 0\n",
        "    for src, tgt in loader:\n",
        "        src, tgt = src.to(device), tgt.to(device)  # Pindahkan ke device\n",
        "        optimizer.zero_grad()  # Reset grad\n",
        "        logits = model(src)  # (batch, seq_len, vocab_size)\n",
        "        # View ulang logits dan target untuk CrossEntropy\n",
        "        loss = criterion(logits.view(-1, VOCAB_SIZE), tgt.view(-1))\n",
        "        loss.backward()  # Backprop\n",
        "        optimizer.step()  # Update parameter\n",
        "        total_loss += loss.item()\n",
        "    avg_loss = total_loss / len(loader)\n",
        "    loss_history.append(avg_loss) # Append the average loss for the epoch\n",
        "    print(f'Epoch {ep+1}, Loss: {avg_loss:.4f}')  # Tampilkan loss rata-rata"
      ],
      "metadata": {
        "colab": {
          "base_uri": "https://localhost:8080/"
        },
        "id": "AWsaliHsv6_T",
        "outputId": "60e9d947-d761-497a-ffc4-83045c08f6ee"
      },
      "execution_count": 14,
      "outputs": [
        {
          "output_type": "stream",
          "name": "stdout",
          "text": [
            "Epoch 1, Loss: 0.0233\n",
            "Epoch 2, Loss: 0.0061\n",
            "Epoch 3, Loss: 0.0031\n",
            "Epoch 4, Loss: 0.0020\n",
            "Epoch 5, Loss: 0.0014\n"
          ]
        }
      ]
    },
    {
      "cell_type": "markdown",
      "source": [
        "# **10. Inferensi & Demo**"
      ],
      "metadata": {
        "id": "fa_y2B8twDZN"
      }
    },
    {
      "cell_type": "markdown",
      "source": [
        "Jalankan model dalam mode eval, generate prediksi, dan bandingkan dengan input."
      ],
      "metadata": {
        "id": "5MHzvdkswFcW"
      }
    },
    {
      "cell_type": "code",
      "source": [
        "# ===== INFERENSI =====\n",
        "model.eval()  # Matikan dropout, dsb.\n",
        "with torch.no_grad():\n",
        "    sample = torch.randint(1, VOCAB_SIZE, (1, SEQ_LEN)).to(device)  # Contoh input\n",
        "    logits = model(sample)  # (1, seq_len, vocab_size)\n",
        "    pred = logits.argmax(dim=-1)  # Pilih token dengan skor tertinggi\n",
        "    print('Input :', sample.cpu().numpy())  # Tampilkan input asli\n",
        "    print('Predicted output:', pred.cpu().numpy())  # Tampilkan hasil prediksi"
      ],
      "metadata": {
        "colab": {
          "base_uri": "https://localhost:8080/"
        },
        "id": "l0ALgx90wF4u",
        "outputId": "5b8e8113-2fd0-465d-cfd3-2c9e1e7c0000"
      },
      "execution_count": 15,
      "outputs": [
        {
          "output_type": "stream",
          "name": "stdout",
          "text": [
            "Input : [[47 57 14  1 47  9 89 80 41 98 21 75  5 63 16 31 57 25 10 47]]\n",
            "Predicted output: [[47 57 14  1 47  9 89 80 41 98 21 75  5 63 16 31 57 25 10 47]]\n"
          ]
        }
      ]
    },
    {
      "cell_type": "markdown",
      "source": [
        "# **11. Visualisasi Attention Heatmap**"
      ],
      "metadata": {
        "id": "VFhjYnJ_wZ_q"
      }
    },
    {
      "cell_type": "markdown",
      "source": [
        "Tampilkan heatmap attention untuk satu head untuk pahami pola perhatian."
      ],
      "metadata": {
        "id": "gY8YF1_oyGhs"
      }
    },
    {
      "cell_type": "code",
      "source": [
        "# ===== Attention Heatmap =====\n",
        "model.eval()\n",
        "with torch.no_grad():\n",
        "    # Ambil satu sampel input acak\n",
        "    sample = torch.randint(1, 100, (1,20)).to(device)\n",
        "    # Forward pass untuk mendapatkan attention weights\n",
        "    _, attn = model(sample, return_attn=True)\n",
        "\n",
        "# attn shape: (num_layers, batch, num_heads, seq_len, seq_len)\n",
        "# Pilih layer pertama (0), batch pertama (0), dan head pertama (0)\n",
        "head0 = attn[0, 0, 0].cpu().numpy()\n",
        "\n",
        "import matplotlib.pyplot as plt\n",
        "plt.figure(figsize=(5,5))\n",
        "plt.imshow(head0, aspect='auto')\n",
        "plt.colorbar()\n",
        "plt.title('Attention Heatmap - Layer 0 Head 0')\n",
        "plt.xlabel('Key Position')\n",
        "plt.ylabel('Query Position')\n",
        "plt.show()"
      ],
      "metadata": {
        "colab": {
          "base_uri": "https://localhost:8080/",
          "height": 487
        },
        "id": "FzWsc3yJyJOV",
        "outputId": "7498565a-2cf0-4e65-c971-8de2ee11184a"
      },
      "execution_count": 16,
      "outputs": [
        {
          "output_type": "display_data",
          "data": {
            "text/plain": [
              "<Figure size 500x500 with 2 Axes>"
            ],
            "image/png": "[encoded data removed]"
          },
          "metadata": {}
        }
      ]
    },
    {
      "cell_type": "markdown",
      "source": [
        "# **12. Plot Training Loss**"
      ],
      "metadata": {
        "id": "sfSRfXDq0xMp"
      }
    },
    {
      "cell_type": "markdown",
      "source": [
        "Melihat Gambar tren loss untuk pantau konvergensi."
      ],
      "metadata": {
        "id": "K5EZpDin00sq"
      }
    },
    {
      "cell_type": "code",
      "source": [
        "def plot_training_loss():\n",
        "    import matplotlib.pyplot as plt\n",
        "    try:\n",
        "        # Pastikan loss_history sudah berjalan dan berisi data\n",
        "        plt.figure(figsize=(6,4))\n",
        "        plt.plot(loss_history, label='Train Loss')\n",
        "        plt.title('Training Loss')\n",
        "        plt.xlabel('Step')\n",
        "        plt.ylabel('Loss')\n",
        "        plt.grid()\n",
        "        plt.legend()\n",
        "        plt.show()\n",
        "    except NameError:\n",
        "        print('Variabel loss_history tidak ditemukan. Pastikan kamu sudah menjalankan Training Loop (Section 9).')\n",
        "\n",
        "# Panggil fungsi untuk menampilkan plot\n",
        "plot_training_loss()"
      ],
      "metadata": {
        "colab": {
          "base_uri": "https://localhost:8080/",
          "height": 410
        },
        "id": "mh4Gx7570zko",
        "outputId": "376b612d-0e00-43c8-dbc0-8a6e9d1b022c"
      },
      "execution_count": 17,
      "outputs": [
        {
          "output_type": "display_data",
          "data": {
            "text/plain": [
              "<Figure size 600x400 with 1 Axes>"
            ],
            "image/png": "[encoded data removed]"
          },
          "metadata": {}
        }
      ]
    },
    {
      "cell_type": "markdown",
      "source": [
        "# **13. Combined Visualization (Attention & Loss). Combined Visualization (Attention & Loss)**"
      ],
      "metadata": {
        "id": "bp4r3JqG3T6G"
      }
    },
    {
      "cell_type": "markdown",
      "source": [
        "Satu tampilan berisi heatmap attention & grafik loss."
      ],
      "metadata": {
        "id": "ZPO7Sw3Y4dER"
      }
    },
    {
      "cell_type": "code",
      "source": [
        "fig, ax = plt.subplots(1,2, figsize=(10,4))\n",
        "ax[0].imshow(head0, aspect='auto'); ax[0].set_title('Head0 Heatmap')\n",
        "ax[1].plot(loss_history); ax[1].set_title('Loss over Steps')\n",
        "plt.tight_layout(); plt.show()"
      ],
      "metadata": {
        "colab": {
          "base_uri": "https://localhost:8080/",
          "height": 407
        },
        "id": "k04KHW8W3Uht",
        "outputId": "e4b87074-e3a1-46dc-c447-cbe64bc6c8c6"
      },
      "execution_count": 18,
      "outputs": [
        {
          "output_type": "display_data",
          "data": {
            "text/plain": [
              "<Figure size 1000x400 with 2 Axes>"
            ],
            "image/png": "[encoded data removed]"
          },
          "metadata": {}
        }
      ]
    },
    {
      "cell_type": "markdown",
      "source": [
        "# **14. Masking Mechanisms**"
      ],
      "metadata": {
        "id": "i1J6WA0f4aKf"
      }
    },
    {
      "cell_type": "markdown",
      "source": [
        "Padding mask mencegah attention pada token <pad>, sedangkan look‑ahead mask (subsequent mask) mencegah decoder melihat token di posisi masa depan."
      ],
      "metadata": {
        "id": "TsVTnHpl50qZ"
      }
    },
    {
      "cell_type": "code",
      "source": [
        "# ===== MASKING UTILITIES =====\n",
        "\n",
        "def create_padding_mask(seq, pad_token=0):\n",
        "    \"\"\"Return mask shape (batch, 1, 1, seq_len) with 0 for pad positions.\"\"\"\n",
        "    mask = (seq == pad_token).unsqueeze(1).unsqueeze(2)  # (batch,1,1,seq)\n",
        "    return mask  # Bool tensor\n",
        "\n",
        "def create_look_ahead_mask(size):\n",
        "    \"\"\"Upper‑triangular mask untuk melarang melihat ke depan.\"\"\"\n",
        "    mask = torch.triu(torch.ones((size, size), device=seq.device), diagonal=1).bool()\n",
        "    return mask  # (seq, seq)"
      ],
      "metadata": {
        "id": "8VgmQFqC54cf"
      },
      "execution_count": 19,
      "outputs": []
    },
    {
      "cell_type": "markdown",
      "source": [
        "# **15. Learning Rate Scheduler**"
      ],
      "metadata": {
        "id": "UirXEhOe6Dox"
      }
    },
    {
      "cell_type": "markdown",
      "source": [
        "Gunakan warm‑up di awal training lalu linear decay—praktik umum di Transformer."
      ],
      "metadata": {
        "id": "Ngf9S9nL6E0Z"
      }
    },
    {
      "cell_type": "code",
      "source": [
        "from torch.optim.lr_scheduler import LambdaLR\n",
        "\n",
        "# Warm‑up + linear decay scheduler\n",
        "warmup_steps = 400\n",
        "scheduler = LambdaLR(\n",
        "    optimizer,\n",
        "    lr_lambda=lambda step: min((step+1)/warmup_steps, 1.0)  # Naik linier sampai warmup\n",
        ")\n",
        "\n",
        "# Tambahkan scheduler.step() di akhir setiap batch atau epoch"
      ],
      "metadata": {
        "id": "lSzVTm_h6Gvw"
      },
      "execution_count": 20,
      "outputs": []
    },
    {
      "cell_type": "markdown",
      "source": [
        "# **16. Save & Load Model**"
      ],
      "metadata": {
        "id": "hWuLLk-Z6PLr"
      }
    },
    {
      "cell_type": "markdown",
      "source": [
        "Simpan parameter model setelah training dan muat kembali untuk inferensi."
      ],
      "metadata": {
        "id": "FrbyY8gz6Si_"
      }
    },
    {
      "cell_type": "code",
      "source": [
        "# ===== SAVE MODEL =====\n",
        "SAVE_PATH = 'transformer_copytask.pth'\n",
        "torch.save(model.state_dict(), SAVE_PATH)\n",
        "print('Model saved to', SAVE_PATH)\n",
        "\n",
        "# ===== LOAD MODEL =====\n",
        "loaded_model = TransformerEncoder(VOCAB_SIZE, D_MODEL, N_LAYERS, NUM_HEADS, D_FF, MAX_LEN).to(device)\n",
        "loaded_model.load_state_dict(torch.load(SAVE_PATH))\n",
        "loaded_model.eval()\n",
        "print('Model loaded and ready for inference')"
      ],
      "metadata": {
        "colab": {
          "base_uri": "https://localhost:8080/"
        },
        "id": "8gjlTIOR6TBc",
        "outputId": "b48c3e39-e055-43bb-e9e2-d581ab775dc4"
      },
      "execution_count": 21,
      "outputs": [
        {
          "output_type": "stream",
          "name": "stdout",
          "text": [
            "Model saved to transformer_copytask.pth\n",
            "Model loaded and ready for inference\n"
          ]
        }
      ]
    },
    {
      "cell_type": "markdown",
      "source": [
        "# **17. Evaluation Metric: Token‑Level Accuracy**"
      ],
      "metadata": {
        "id": "tnjsN8RF6ZFS"
      }
    },
    {
      "cell_type": "markdown",
      "source": [
        "Hitung proporsi token yang disalin dengan benar (akurasi) pada dataset validasi."
      ],
      "metadata": {
        "id": "dV9jBe3S7ku8"
      }
    },
    {
      "cell_type": "code",
      "source": [
        "# ===== EVALUATION =====\n",
        "correct = total_tokens = 0\n",
        "loaded_model.eval()\n",
        "with torch.no_grad():\n",
        "    for src, tgt in loader:  # Pakai loader yang sama sebagai demo\n",
        "        src, tgt = src.to(device), tgt.to(device)\n",
        "        logits = loaded_model(src)\n",
        "        pred = logits.argmax(dim=-1)\n",
        "        correct += (pred == tgt).sum().item()\n",
        "        total_tokens += tgt.numel()\n",
        "accuracy = correct / total_tokens * 100\n",
        "print(f'Token‑level accuracy: {accuracy:.2f}%')"
      ],
      "metadata": {
        "colab": {
          "base_uri": "https://localhost:8080/"
        },
        "id": "nJ1IbEJR6bVr",
        "outputId": "345d4f19-a487-4312-9a6b-8b16673f9860"
      },
      "execution_count": 22,
      "outputs": [
        {
          "output_type": "stream",
          "name": "stdout",
          "text": [
            "Token‑level accuracy: 100.00%\n"
          ]
        }
      ]
    }
  ]
}