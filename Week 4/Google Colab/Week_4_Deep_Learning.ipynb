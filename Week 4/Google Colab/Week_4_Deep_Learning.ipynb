{
  "nbformat": 4,
  "nbformat_minor": 0,
  "metadata": {
    "colab": {
      "provenance": [],
      "include_colab_link": true
    },
    "kernelspec": {
      "name": "python3",
      "display_name": "Python 3"
    },
    "language_info": {
      "name": "python"
    }
  },
  "cells": [
    {
      "cell_type": "markdown",
      "metadata": {
        "id": "view-in-github",
        "colab_type": "text"
      },
      "source": [
        "<a href=\"https://colab.research.google.com/github/mdzikrim/DeepLearning/blob/main/Week_4_Deep_Learning.ipynb\" target=\"_parent\"><img src=\"https://colab.research.google.com/assets/colab-badge.svg\" alt=\"Open In Colab\"/></a>"
      ]
    },
    {
      "cell_type": "markdown",
      "source": [
        "# Convolutional Neural Networks"
      ],
      "metadata": {
        "id": "z_JUopcXlBHO"
      }
    },
    {
      "cell_type": "code",
      "source": [
        "from keras.models import Sequential\n",
        "from keras.layers import Flatten\n",
        "\n",
        "model = Sequential()\n",
        "model.add(Flatten(input_shape=(28, 28))) #index_flat = i * (jumlah kolom) + j\n",
        "\n",
        "# untuk array 28x28, jumlah kolom = 28. Misal, elemen di posisi (1, 3) bakal punya index:\n",
        "# 1 * 28 + 3 = 31"
      ],
      "metadata": {
        "colab": {
          "base_uri": "https://localhost:8080/"
        },
        "id": "NTDOZDNACa4M",
        "outputId": "9abd1dd6-3da6-4f26-a8f6-c646d91a895a"
      },
      "execution_count": 1,
      "outputs": [
        {
          "output_type": "stream",
          "name": "stderr",
          "text": [
            "/usr/local/lib/python3.11/dist-packages/keras/src/layers/reshaping/flatten.py:37: UserWarning: Do not pass an `input_shape`/`input_dim` argument to a layer. When using Sequential models, prefer using an `Input(shape)` object as the first layer in the model instead.\n",
            "  super().__init__(**kwargs)\n"
          ]
        }
      ]
    },
    {
      "cell_type": "markdown",
      "source": [
        "# Input Layer"
      ],
      "metadata": {
        "id": "g12rIOQxlOxN"
      }
    },
    {
      "cell_type": "code",
      "source": [
        "import numpy as np\n",
        "\n",
        "dummy_input=np.arange(784).reshape(1, 28, 28)\n",
        "print(dummy_input)\n",
        "\n",
        "flattened_output=model.predict(np.zeros((1,28,28)))\n",
        "print(flattened_output[0][:10])"
      ],
      "metadata": {
        "colab": {
          "base_uri": "https://localhost:8080/"
        },
        "id": "oUKvrVSOFH41",
        "outputId": "972784d7-cfab-46d1-f085-a9a65c3d3343"
      },
      "execution_count": 2,
      "outputs": [
        {
          "output_type": "stream",
          "name": "stdout",
          "text": [
            "[[[  0   1   2   3   4   5   6   7   8   9  10  11  12  13  14  15  16\n",
            "    17  18  19  20  21  22  23  24  25  26  27]\n",
            "  [ 28  29  30  31  32  33  34  35  36  37  38  39  40  41  42  43  44\n",
            "    45  46  47  48  49  50  51  52  53  54  55]\n",
            "  [ 56  57  58  59  60  61  62  63  64  65  66  67  68  69  70  71  72\n",
            "    73  74  75  76  77  78  79  80  81  82  83]\n",
            "  [ 84  85  86  87  88  89  90  91  92  93  94  95  96  97  98  99 100\n",
            "   101 102 103 104 105 106 107 108 109 110 111]\n",
            "  [112 113 114 115 116 117 118 119 120 121 122 123 124 125 126 127 128\n",
            "   129 130 131 132 133 134 135 136 137 138 139]\n",
            "  [140 141 142 143 144 145 146 147 148 149 150 151 152 153 154 155 156\n",
            "   157 158 159 160 161 162 163 164 165 166 167]\n",
            "  [168 169 170 171 172 173 174 175 176 177 178 179 180 181 182 183 184\n",
            "   185 186 187 188 189 190 191 192 193 194 195]\n",
            "  [196 197 198 199 200 201 202 203 204 205 206 207 208 209 210 211 212\n",
            "   213 214 215 216 217 218 219 220 221 222 223]\n",
            "  [224 225 226 227 228 229 230 231 232 233 234 235 236 237 238 239 240\n",
            "   241 242 243 244 245 246 247 248 249 250 251]\n",
            "  [252 253 254 255 256 257 258 259 260 261 262 263 264 265 266 267 268\n",
            "   269 270 271 272 273 274 275 276 277 278 279]\n",
            "  [280 281 282 283 284 285 286 287 288 289 290 291 292 293 294 295 296\n",
            "   297 298 299 300 301 302 303 304 305 306 307]\n",
            "  [308 309 310 311 312 313 314 315 316 317 318 319 320 321 322 323 324\n",
            "   325 326 327 328 329 330 331 332 333 334 335]\n",
            "  [336 337 338 339 340 341 342 343 344 345 346 347 348 349 350 351 352\n",
            "   353 354 355 356 357 358 359 360 361 362 363]\n",
            "  [364 365 366 367 368 369 370 371 372 373 374 375 376 377 378 379 380\n",
            "   381 382 383 384 385 386 387 388 389 390 391]\n",
            "  [392 393 394 395 396 397 398 399 400 401 402 403 404 405 406 407 408\n",
            "   409 410 411 412 413 414 415 416 417 418 419]\n",
            "  [420 421 422 423 424 425 426 427 428 429 430 431 432 433 434 435 436\n",
            "   437 438 439 440 441 442 443 444 445 446 447]\n",
            "  [448 449 450 451 452 453 454 455 456 457 458 459 460 461 462 463 464\n",
            "   465 466 467 468 469 470 471 472 473 474 475]\n",
            "  [476 477 478 479 480 481 482 483 484 485 486 487 488 489 490 491 492\n",
            "   493 494 495 496 497 498 499 500 501 502 503]\n",
            "  [504 505 506 507 508 509 510 511 512 513 514 515 516 517 518 519 520\n",
            "   521 522 523 524 525 526 527 528 529 530 531]\n",
            "  [532 533 534 535 536 537 538 539 540 541 542 543 544 545 546 547 548\n",
            "   549 550 551 552 553 554 555 556 557 558 559]\n",
            "  [560 561 562 563 564 565 566 567 568 569 570 571 572 573 574 575 576\n",
            "   577 578 579 580 581 582 583 584 585 586 587]\n",
            "  [588 589 590 591 592 593 594 595 596 597 598 599 600 601 602 603 604\n",
            "   605 606 607 608 609 610 611 612 613 614 615]\n",
            "  [616 617 618 619 620 621 622 623 624 625 626 627 628 629 630 631 632\n",
            "   633 634 635 636 637 638 639 640 641 642 643]\n",
            "  [644 645 646 647 648 649 650 651 652 653 654 655 656 657 658 659 660\n",
            "   661 662 663 664 665 666 667 668 669 670 671]\n",
            "  [672 673 674 675 676 677 678 679 680 681 682 683 684 685 686 687 688\n",
            "   689 690 691 692 693 694 695 696 697 698 699]\n",
            "  [700 701 702 703 704 705 706 707 708 709 710 711 712 713 714 715 716\n",
            "   717 718 719 720 721 722 723 724 725 726 727]\n",
            "  [728 729 730 731 732 733 734 735 736 737 738 739 740 741 742 743 744\n",
            "   745 746 747 748 749 750 751 752 753 754 755]\n",
            "  [756 757 758 759 760 761 762 763 764 765 766 767 768 769 770 771 772\n",
            "   773 774 775 776 777 778 779 780 781 782 783]]]\n",
            "\u001b[1m1/1\u001b[0m \u001b[32m━━━━━━━━━━━━━━━━━━━━\u001b[0m\u001b[37m\u001b[0m \u001b[1m0s\u001b[0m 142ms/step\n",
            "[0. 0. 0. 0. 0. 0. 0. 0. 0. 0.]\n"
          ]
        }
      ]
    },
    {
      "cell_type": "code",
      "source": [
        "import numpy as np\n",
        "# Bikin dummy image: gradient dari 0 (gelap) ke 255 (terang)\n",
        "dummy_input = np.linspace(0, 255, num=28*28).reshape(28, 28).astype(np.float32)\n",
        "# Tambah batch dimension, jadi shape-nya (1, 28, 28)\n",
        "dummy_input = np.expand_dims(dummy_input, axis=0)\n",
        "\n",
        "# Jalanin model buat ngeliat output flatten\n",
        "flattened_output = model.predict(dummy_input)\n",
        "print(flattened_output[0][:10])"
      ],
      "metadata": {
        "colab": {
          "base_uri": "https://localhost:8080/"
        },
        "id": "DDwrBgvhGbt9",
        "outputId": "8d1de3d2-bec8-42fe-b532-b7ab55889a79"
      },
      "execution_count": 3,
      "outputs": [
        {
          "output_type": "stream",
          "name": "stdout",
          "text": [
            "\u001b[1m1/1\u001b[0m \u001b[32m━━━━━━━━━━━━━━━━━━━━\u001b[0m\u001b[37m\u001b[0m \u001b[1m0s\u001b[0m 66ms/step\n",
            "[0.        0.3256705 0.651341  0.9770115 1.302682  1.6283525 1.954023\n",
            " 2.2796936 2.605364  2.9310346]\n"
          ]
        }
      ]
    },
    {
      "cell_type": "code",
      "source": [
        "print(\"Input sebelum flatten:\", dummy_input[0][0][:10])"
      ],
      "metadata": {
        "colab": {
          "base_uri": "https://localhost:8080/"
        },
        "id": "TtKWrVWsHhko",
        "outputId": "57206a44-bc00-4bf9-a6c6-3a67fbb62871"
      },
      "execution_count": 4,
      "outputs": [
        {
          "output_type": "stream",
          "name": "stdout",
          "text": [
            "Input sebelum flatten: [0.        0.3256705 0.651341  0.9770115 1.302682  1.6283525 1.954023\n",
            " 2.2796936 2.605364  2.9310346]\n"
          ]
        }
      ]
    },
    {
      "cell_type": "markdown",
      "source": [
        "# Hidden Layers"
      ],
      "metadata": {
        "id": "yuotrQgDlbxy"
      }
    },
    {
      "cell_type": "code",
      "source": [
        "from keras.layers import Dense\n",
        "model.add(Dense(512, activation='relu'))"
      ],
      "metadata": {
        "id": "sRzDlvTDH2Dc"
      },
      "execution_count": 5,
      "outputs": []
    },
    {
      "cell_type": "code",
      "source": [
        "import numpy as np\n",
        "\n",
        "def relu(x):\n",
        "    \"\"\"\n",
        "    Fungsi ReLU:\n",
        "    - Kalau x < 0, jadi 0\n",
        "    - Kalau x == 0, tetap 0\n",
        "    - Kalau x > 0, jadi x\n",
        "    \"\"\"\n",
        "    return np.where(x > 0, x, 0)\n",
        "\n",
        "# Contoh input: ada negatif, 0, dan positif\n",
        "input_vector = np.array([-5.0, -1.0, 0.0, 2.0, 5.0])\n",
        "output = relu(input_vector)\n",
        "\n",
        "print(\"Input:\", input_vector)\n",
        "print(\"Output setelah ReLU:\", output)"
      ],
      "metadata": {
        "colab": {
          "base_uri": "https://localhost:8080/"
        },
        "id": "G7hJ5JJZH6gJ",
        "outputId": "36572c82-dcc0-432b-8661-c0b7f66b9505"
      },
      "execution_count": 6,
      "outputs": [
        {
          "output_type": "stream",
          "name": "stdout",
          "text": [
            "Input: [-5. -1.  0.  2.  5.]\n",
            "Output setelah ReLU: [0. 0. 0. 2. 5.]\n"
          ]
        }
      ]
    },
    {
      "cell_type": "markdown",
      "source": [
        "# Output Layer"
      ],
      "metadata": {
        "id": "HGldGGUmlmWb"
      }
    },
    {
      "cell_type": "code",
      "source": [
        "import numpy as np\n",
        "\n",
        "def softmax(x):\n",
        "    \"\"\"\n",
        "    Fungsi softmax buat ngeubah input vector jadi probabilitas.\n",
        "\n",
        "    Rumus:\n",
        "    softmax(x)_i = exp(x_i) / sum(exp(x))\n",
        "\n",
        "    Pake trick subtract np.max(x) buat stabilitas numerik.\n",
        "    \"\"\"\n",
        "    exps = np.exp(x - np.max(x))\n",
        "    return exps / np.sum(exps)\n",
        "\n",
        "# Contoh input vector\n",
        "input_vector = np.array([2.0, 1.0, 0.1])\n",
        "output = softmax(input_vector)\n",
        "\n",
        "print(\"Input:\", input_vector)\n",
        "print(\"Output setelah softmax:\", output)"
      ],
      "metadata": {
        "colab": {
          "base_uri": "https://localhost:8080/"
        },
        "id": "EcR-xs2HIHou",
        "outputId": "25e399ed-6e5d-43c1-84d6-a7fe926770cd"
      },
      "execution_count": 7,
      "outputs": [
        {
          "output_type": "stream",
          "name": "stdout",
          "text": [
            "Input: [2.  1.  0.1]\n",
            "Output setelah softmax: [0.65900114 0.24243297 0.09856589]\n"
          ]
        }
      ]
    },
    {
      "cell_type": "markdown",
      "source": [
        "# Putting it All Together"
      ],
      "metadata": {
        "id": "gHIUvNTcluE2"
      }
    },
    {
      "cell_type": "code",
      "source": [
        "from keras.models import Sequential\n",
        "from keras.layers import Flatten, Dense\n",
        "\n",
        "model = Sequential()\n",
        "# Imports a Flatten layer to convert the image matrix into a vector\n",
        "model.add(Flatten(input_shape=(28, 28)))\n",
        "model.add(Dense(512, activation='relu'))\n",
        "model.add(Dense(512, activation='relu'))\n",
        "model.add(Dense(10, activation='softmax'))\n",
        "model.summary()"
      ],
      "metadata": {
        "colab": {
          "base_uri": "https://localhost:8080/",
          "height": 257
        },
        "id": "p7tJ6VekIc1l",
        "outputId": "250c91ce-9736-4047-a432-28759b7e54cb"
      },
      "execution_count": 8,
      "outputs": [
        {
          "output_type": "display_data",
          "data": {
            "text/plain": [
              "\u001b[1mModel: \"sequential_1\"\u001b[0m\n"
            ],
            "text/html": [
              "<pre style=\"white-space:pre;overflow-x:auto;line-height:normal;font-family:Menlo,'DejaVu Sans Mono',consolas,'Courier New',monospace\"><span style=\"font-weight: bold\">Model: \"sequential_1\"</span>\n",
              "</pre>\n"
            ]
          },
          "metadata": {}
        },
        {
          "output_type": "display_data",
          "data": {
            "text/plain": [
              "┏━━━━━━━━━━━━━━━━━━━━━━━━━━━━━━━━━━━━━━┳━━━━━━━━━━━━━━━━━━━━━━━━━━━━━┳━━━━━━━━━━━━━━━━━┓\n",
              "┃\u001b[1m \u001b[0m\u001b[1mLayer (type)                        \u001b[0m\u001b[1m \u001b[0m┃\u001b[1m \u001b[0m\u001b[1mOutput Shape               \u001b[0m\u001b[1m \u001b[0m┃\u001b[1m \u001b[0m\u001b[1m        Param #\u001b[0m\u001b[1m \u001b[0m┃\n",
              "┡━━━━━━━━━━━━━━━━━━━━━━━━━━━━━━━━━━━━━━╇━━━━━━━━━━━━━━━━━━━━━━━━━━━━━╇━━━━━━━━━━━━━━━━━┩\n",
              "│ flatten_1 (\u001b[38;5;33mFlatten\u001b[0m)                  │ (\u001b[38;5;45mNone\u001b[0m, \u001b[38;5;34m784\u001b[0m)                 │               \u001b[38;5;34m0\u001b[0m │\n",
              "├──────────────────────────────────────┼─────────────────────────────┼─────────────────┤\n",
              "│ dense_1 (\u001b[38;5;33mDense\u001b[0m)                      │ (\u001b[38;5;45mNone\u001b[0m, \u001b[38;5;34m512\u001b[0m)                 │         \u001b[38;5;34m401,920\u001b[0m │\n",
              "├──────────────────────────────────────┼─────────────────────────────┼─────────────────┤\n",
              "│ dense_2 (\u001b[38;5;33mDense\u001b[0m)                      │ (\u001b[38;5;45mNone\u001b[0m, \u001b[38;5;34m512\u001b[0m)                 │         \u001b[38;5;34m262,656\u001b[0m │\n",
              "├──────────────────────────────────────┼─────────────────────────────┼─────────────────┤\n",
              "│ dense_3 (\u001b[38;5;33mDense\u001b[0m)                      │ (\u001b[38;5;45mNone\u001b[0m, \u001b[38;5;34m10\u001b[0m)                  │           \u001b[38;5;34m5,130\u001b[0m │\n",
              "└──────────────────────────────────────┴─────────────────────────────┴─────────────────┘\n"
            ],
            "text/html": [
              "<pre style=\"white-space:pre;overflow-x:auto;line-height:normal;font-family:Menlo,'DejaVu Sans Mono',consolas,'Courier New',monospace\">┏━━━━━━━━━━━━━━━━━━━━━━━━━━━━━━━━━━━━━━┳━━━━━━━━━━━━━━━━━━━━━━━━━━━━━┳━━━━━━━━━━━━━━━━━┓\n",
              "┃<span style=\"font-weight: bold\"> Layer (type)                         </span>┃<span style=\"font-weight: bold\"> Output Shape                </span>┃<span style=\"font-weight: bold\">         Param # </span>┃\n",
              "┡━━━━━━━━━━━━━━━━━━━━━━━━━━━━━━━━━━━━━━╇━━━━━━━━━━━━━━━━━━━━━━━━━━━━━╇━━━━━━━━━━━━━━━━━┩\n",
              "│ flatten_1 (<span style=\"color: #0087ff; text-decoration-color: #0087ff\">Flatten</span>)                  │ (<span style=\"color: #00d7ff; text-decoration-color: #00d7ff\">None</span>, <span style=\"color: #00af00; text-decoration-color: #00af00\">784</span>)                 │               <span style=\"color: #00af00; text-decoration-color: #00af00\">0</span> │\n",
              "├──────────────────────────────────────┼─────────────────────────────┼─────────────────┤\n",
              "│ dense_1 (<span style=\"color: #0087ff; text-decoration-color: #0087ff\">Dense</span>)                      │ (<span style=\"color: #00d7ff; text-decoration-color: #00d7ff\">None</span>, <span style=\"color: #00af00; text-decoration-color: #00af00\">512</span>)                 │         <span style=\"color: #00af00; text-decoration-color: #00af00\">401,920</span> │\n",
              "├──────────────────────────────────────┼─────────────────────────────┼─────────────────┤\n",
              "│ dense_2 (<span style=\"color: #0087ff; text-decoration-color: #0087ff\">Dense</span>)                      │ (<span style=\"color: #00d7ff; text-decoration-color: #00d7ff\">None</span>, <span style=\"color: #00af00; text-decoration-color: #00af00\">512</span>)                 │         <span style=\"color: #00af00; text-decoration-color: #00af00\">262,656</span> │\n",
              "├──────────────────────────────────────┼─────────────────────────────┼─────────────────┤\n",
              "│ dense_3 (<span style=\"color: #0087ff; text-decoration-color: #0087ff\">Dense</span>)                      │ (<span style=\"color: #00d7ff; text-decoration-color: #00d7ff\">None</span>, <span style=\"color: #00af00; text-decoration-color: #00af00\">10</span>)                  │           <span style=\"color: #00af00; text-decoration-color: #00af00\">5,130</span> │\n",
              "└──────────────────────────────────────┴─────────────────────────────┴─────────────────┘\n",
              "</pre>\n"
            ]
          },
          "metadata": {}
        },
        {
          "output_type": "display_data",
          "data": {
            "text/plain": [
              "\u001b[1m Total params: \u001b[0m\u001b[38;5;34m669,706\u001b[0m (2.55 MB)\n"
            ],
            "text/html": [
              "<pre style=\"white-space:pre;overflow-x:auto;line-height:normal;font-family:Menlo,'DejaVu Sans Mono',consolas,'Courier New',monospace\"><span style=\"font-weight: bold\"> Total params: </span><span style=\"color: #00af00; text-decoration-color: #00af00\">669,706</span> (2.55 MB)\n",
              "</pre>\n"
            ]
          },
          "metadata": {}
        },
        {
          "output_type": "display_data",
          "data": {
            "text/plain": [
              "\u001b[1m Trainable params: \u001b[0m\u001b[38;5;34m669,706\u001b[0m (2.55 MB)\n"
            ],
            "text/html": [
              "<pre style=\"white-space:pre;overflow-x:auto;line-height:normal;font-family:Menlo,'DejaVu Sans Mono',consolas,'Courier New',monospace\"><span style=\"font-weight: bold\"> Trainable params: </span><span style=\"color: #00af00; text-decoration-color: #00af00\">669,706</span> (2.55 MB)\n",
              "</pre>\n"
            ]
          },
          "metadata": {}
        },
        {
          "output_type": "display_data",
          "data": {
            "text/plain": [
              "\u001b[1m Non-trainable params: \u001b[0m\u001b[38;5;34m0\u001b[0m (0.00 B)\n"
            ],
            "text/html": [
              "<pre style=\"white-space:pre;overflow-x:auto;line-height:normal;font-family:Menlo,'DejaVu Sans Mono',consolas,'Courier New',monospace\"><span style=\"font-weight: bold\"> Non-trainable params: </span><span style=\"color: #00af00; text-decoration-color: #00af00\">0</span> (0.00 B)\n",
              "</pre>\n"
            ]
          },
          "metadata": {}
        }
      ]
    },
    {
      "cell_type": "markdown",
      "source": [
        "# MLP and CNN Comparison"
      ],
      "metadata": {
        "id": "BuAv0edRl-Gr"
      }
    },
    {
      "cell_type": "code",
      "source": [
        "import tensorflow as tf\n",
        "from tensorflow.keras.models import Sequential\n",
        "from tensorflow.keras.layers import Dense, Flatten, Dropout\n",
        "from tensorflow.keras.datasets import mnist"
      ],
      "metadata": {
        "id": "zYIm2eJZI2OV"
      },
      "execution_count": 9,
      "outputs": []
    },
    {
      "cell_type": "code",
      "source": [
        "(x_train, y_train), (x_test, y_test) = mnist.load_data()"
      ],
      "metadata": {
        "colab": {
          "base_uri": "https://localhost:8080/"
        },
        "id": "nj1nxxOEJFAR",
        "outputId": "cb092282-fb90-47a3-fe7c-9074fe659460"
      },
      "execution_count": 10,
      "outputs": [
        {
          "output_type": "stream",
          "name": "stdout",
          "text": [
            "Downloading data from https://storage.googleapis.com/tensorflow/tf-keras-datasets/mnist.npz\n",
            "\u001b[1m11490434/11490434\u001b[0m \u001b[32m━━━━━━━━━━━━━━━━━━━━\u001b[0m\u001b[37m\u001b[0m \u001b[1m0s\u001b[0m 0us/step\n"
          ]
        }
      ]
    },
    {
      "cell_type": "code",
      "source": [
        "x_train = x_train.astype('float32') / 255.0\n",
        "x_test = x_test.astype('float32') / 255.0"
      ],
      "metadata": {
        "id": "y2uHH3fbJLYo"
      },
      "execution_count": 11,
      "outputs": []
    },
    {
      "cell_type": "code",
      "source": [
        "model_mlp = Sequential([\n",
        "    Flatten(input_shape=(28, 28)),\n",
        "    Dense(512, activation='relu'),\n",
        "    Dropout(0.2),\n",
        "    Dense(256, activation='relu'),\n",
        "    Dropout(0.2),\n",
        "    Dense(10, activation='softmax')\n",
        "])"
      ],
      "metadata": {
        "id": "YnNMPF0AJPgh"
      },
      "execution_count": 12,
      "outputs": []
    },
    {
      "cell_type": "code",
      "source": [
        "model_mlp.compile(optimizer='adam',\n",
        "                  loss='sparse_categorical_crossentropy',\n",
        "                  metrics=['accuracy'])"
      ],
      "metadata": {
        "id": "Lthtl-sxJTzf"
      },
      "execution_count": 13,
      "outputs": []
    },
    {
      "cell_type": "code",
      "source": [
        "history_mlp = model_mlp.fit(x_train, y_train, epochs=10, batch_size=128, validation_split=0.2)"
      ],
      "metadata": {
        "colab": {
          "base_uri": "https://localhost:8080/"
        },
        "id": "MyPBZD_mJZD3",
        "outputId": "64f13cf0-9562-4070-ea4d-a57812cecf21"
      },
      "execution_count": 14,
      "outputs": [
        {
          "output_type": "stream",
          "name": "stdout",
          "text": [
            "Epoch 1/10\n",
            "\u001b[1m375/375\u001b[0m \u001b[32m━━━━━━━━━━━━━━━━━━━━\u001b[0m\u001b[37m\u001b[0m \u001b[1m8s\u001b[0m 16ms/step - accuracy: 0.8375 - loss: 0.5390 - val_accuracy: 0.9621 - val_loss: 0.1299\n",
            "Epoch 2/10\n",
            "\u001b[1m375/375\u001b[0m \u001b[32m━━━━━━━━━━━━━━━━━━━━\u001b[0m\u001b[37m\u001b[0m \u001b[1m7s\u001b[0m 18ms/step - accuracy: 0.9649 - loss: 0.1169 - val_accuracy: 0.9718 - val_loss: 0.0903\n",
            "Epoch 3/10\n",
            "\u001b[1m375/375\u001b[0m \u001b[32m━━━━━━━━━━━━━━━━━━━━\u001b[0m\u001b[37m\u001b[0m \u001b[1m10s\u001b[0m 19ms/step - accuracy: 0.9765 - loss: 0.0762 - val_accuracy: 0.9731 - val_loss: 0.0883\n",
            "Epoch 4/10\n",
            "\u001b[1m375/375\u001b[0m \u001b[32m━━━━━━━━━━━━━━━━━━━━\u001b[0m\u001b[37m\u001b[0m \u001b[1m9s\u001b[0m 16ms/step - accuracy: 0.9806 - loss: 0.0619 - val_accuracy: 0.9767 - val_loss: 0.0779\n",
            "Epoch 5/10\n",
            "\u001b[1m375/375\u001b[0m \u001b[32m━━━━━━━━━━━━━━━━━━━━\u001b[0m\u001b[37m\u001b[0m \u001b[1m10s\u001b[0m 16ms/step - accuracy: 0.9854 - loss: 0.0478 - val_accuracy: 0.9762 - val_loss: 0.0776\n",
            "Epoch 6/10\n",
            "\u001b[1m375/375\u001b[0m \u001b[32m━━━━━━━━━━━━━━━━━━━━\u001b[0m\u001b[37m\u001b[0m \u001b[1m10s\u001b[0m 16ms/step - accuracy: 0.9844 - loss: 0.0452 - val_accuracy: 0.9777 - val_loss: 0.0781\n",
            "Epoch 7/10\n",
            "\u001b[1m375/375\u001b[0m \u001b[32m━━━━━━━━━━━━━━━━━━━━\u001b[0m\u001b[37m\u001b[0m \u001b[1m7s\u001b[0m 18ms/step - accuracy: 0.9896 - loss: 0.0323 - val_accuracy: 0.9772 - val_loss: 0.0842\n",
            "Epoch 8/10\n",
            "\u001b[1m375/375\u001b[0m \u001b[32m━━━━━━━━━━━━━━━━━━━━\u001b[0m\u001b[37m\u001b[0m \u001b[1m6s\u001b[0m 15ms/step - accuracy: 0.9902 - loss: 0.0289 - val_accuracy: 0.9785 - val_loss: 0.0799\n",
            "Epoch 9/10\n",
            "\u001b[1m375/375\u001b[0m \u001b[32m━━━━━━━━━━━━━━━━━━━━\u001b[0m\u001b[37m\u001b[0m \u001b[1m7s\u001b[0m 18ms/step - accuracy: 0.9916 - loss: 0.0251 - val_accuracy: 0.9818 - val_loss: 0.0702\n",
            "Epoch 10/10\n",
            "\u001b[1m375/375\u001b[0m \u001b[32m━━━━━━━━━━━━━━━━━━━━\u001b[0m\u001b[37m\u001b[0m \u001b[1m9s\u001b[0m 15ms/step - accuracy: 0.9933 - loss: 0.0218 - val_accuracy: 0.9802 - val_loss: 0.0791\n"
          ]
        }
      ]
    },
    {
      "cell_type": "code",
      "source": [
        "score = model_mlp.evaluate(x_test, y_test, verbose=0)\n",
        "print('MLP Test loss:', score[0])\n",
        "print('MLP Test accuracy:', score[1])"
      ],
      "metadata": {
        "colab": {
          "base_uri": "https://localhost:8080/"
        },
        "id": "P88LszyKJ8b-",
        "outputId": "3c84bc1d-e3b3-4058-8dc5-43bcef6cdb05"
      },
      "execution_count": 15,
      "outputs": [
        {
          "output_type": "stream",
          "name": "stdout",
          "text": [
            "MLP Test loss: 0.07322468608617783\n",
            "MLP Test accuracy: 0.9804999828338623\n"
          ]
        }
      ]
    },
    {
      "cell_type": "markdown",
      "source": [
        "# Latih Model"
      ],
      "metadata": {
        "id": "0Vck0MUlmhnY"
      }
    },
    {
      "cell_type": "code",
      "source": [
        "import tensorflow as tf\n",
        "from tensorflow.keras.models import Sequential\n",
        "from tensorflow.keras.layers import Conv2D, MaxPooling2D, Flatten, Dense, Dropout\n",
        "from tensorflow.keras.datasets import mnist"
      ],
      "metadata": {
        "id": "GWi2rQs4KErJ"
      },
      "execution_count": 16,
      "outputs": []
    },
    {
      "cell_type": "code",
      "source": [
        "(x_train, y_train), (x_test, y_test) = mnist.load_data()"
      ],
      "metadata": {
        "id": "VtgrdBYuKLXR"
      },
      "execution_count": 17,
      "outputs": []
    },
    {
      "cell_type": "code",
      "source": [
        "x_train = x_train.reshape(-1, 28, 28, 1).astype('float32') / 255.0\n",
        "x_test = x_test.reshape(-1, 28, 28, 1).astype('float32') / 255.0"
      ],
      "metadata": {
        "id": "gFfEqvppKPh9"
      },
      "execution_count": 18,
      "outputs": []
    },
    {
      "cell_type": "code",
      "source": [
        "model_cnn = Sequential([\n",
        "    Conv2D(32, kernel_size=(3, 3), activation='relu', input_shape=(28, 28, 1)),\n",
        "    MaxPooling2D(pool_size=(2, 2)),\n",
        "    Conv2D(64, kernel_size=(3, 3), activation='relu'),\n",
        "    MaxPooling2D(pool_size=(2, 2)),\n",
        "    Flatten(),\n",
        "    Dense(128, activation='relu'),\n",
        "    Dropout(0.2),\n",
        "    Dense(10, activation='softmax')\n",
        "])"
      ],
      "metadata": {
        "colab": {
          "base_uri": "https://localhost:8080/"
        },
        "id": "T9FufMQbKTr1",
        "outputId": "2e29b237-7b47-4f3e-faf0-30c7fdab860d"
      },
      "execution_count": 19,
      "outputs": [
        {
          "output_type": "stream",
          "name": "stderr",
          "text": [
            "/usr/local/lib/python3.11/dist-packages/keras/src/layers/convolutional/base_conv.py:107: UserWarning: Do not pass an `input_shape`/`input_dim` argument to a layer. When using Sequential models, prefer using an `Input(shape)` object as the first layer in the model instead.\n",
            "  super().__init__(activity_regularizer=activity_regularizer, **kwargs)\n"
          ]
        }
      ]
    },
    {
      "cell_type": "markdown",
      "source": [
        "# Tes Akurasi"
      ],
      "metadata": {
        "id": "V3O0Ai6XmaSE"
      }
    },
    {
      "cell_type": "code",
      "source": [
        "model_cnn.compile(optimizer='adam',\n",
        "                  loss='sparse_categorical_crossentropy',\n",
        "                  metrics=['accuracy'])"
      ],
      "metadata": {
        "id": "4lYyzO3AKc89"
      },
      "execution_count": 20,
      "outputs": []
    },
    {
      "cell_type": "code",
      "source": [
        "history_cnn = model_cnn.fit(x_train, y_train, epochs=10, batch_size=128, validation_split=0.2)"
      ],
      "metadata": {
        "colab": {
          "base_uri": "https://localhost:8080/"
        },
        "id": "Uf_H4vmtKflq",
        "outputId": "d2d9fd05-7d07-4a16-d8b1-20413c830394"
      },
      "execution_count": 21,
      "outputs": [
        {
          "output_type": "stream",
          "name": "stdout",
          "text": [
            "Epoch 1/10\n",
            "\u001b[1m375/375\u001b[0m \u001b[32m━━━━━━━━━━━━━━━━━━━━\u001b[0m\u001b[37m\u001b[0m \u001b[1m41s\u001b[0m 106ms/step - accuracy: 0.8204 - loss: 0.5997 - val_accuracy: 0.9788 - val_loss: 0.0720\n",
            "Epoch 2/10\n",
            "\u001b[1m375/375\u001b[0m \u001b[32m━━━━━━━━━━━━━━━━━━━━\u001b[0m\u001b[37m\u001b[0m \u001b[1m40s\u001b[0m 104ms/step - accuracy: 0.9758 - loss: 0.0783 - val_accuracy: 0.9805 - val_loss: 0.0621\n",
            "Epoch 3/10\n",
            "\u001b[1m375/375\u001b[0m \u001b[32m━━━━━━━━━━━━━━━━━━━━\u001b[0m\u001b[37m\u001b[0m \u001b[1m42s\u001b[0m 106ms/step - accuracy: 0.9837 - loss: 0.0545 - val_accuracy: 0.9858 - val_loss: 0.0460\n",
            "Epoch 4/10\n",
            "\u001b[1m375/375\u001b[0m \u001b[32m━━━━━━━━━━━━━━━━━━━━\u001b[0m\u001b[37m\u001b[0m \u001b[1m39s\u001b[0m 100ms/step - accuracy: 0.9865 - loss: 0.0399 - val_accuracy: 0.9890 - val_loss: 0.0381\n",
            "Epoch 5/10\n",
            "\u001b[1m375/375\u001b[0m \u001b[32m━━━━━━━━━━━━━━━━━━━━\u001b[0m\u001b[37m\u001b[0m \u001b[1m41s\u001b[0m 101ms/step - accuracy: 0.9888 - loss: 0.0340 - val_accuracy: 0.9882 - val_loss: 0.0405\n",
            "Epoch 6/10\n",
            "\u001b[1m375/375\u001b[0m \u001b[32m━━━━━━━━━━━━━━━━━━━━\u001b[0m\u001b[37m\u001b[0m \u001b[1m41s\u001b[0m 102ms/step - accuracy: 0.9918 - loss: 0.0257 - val_accuracy: 0.9877 - val_loss: 0.0421\n",
            "Epoch 7/10\n",
            "\u001b[1m375/375\u001b[0m \u001b[32m━━━━━━━━━━━━━━━━━━━━\u001b[0m\u001b[37m\u001b[0m \u001b[1m43s\u001b[0m 109ms/step - accuracy: 0.9921 - loss: 0.0241 - val_accuracy: 0.9898 - val_loss: 0.0392\n",
            "Epoch 8/10\n",
            "\u001b[1m375/375\u001b[0m \u001b[32m━━━━━━━━━━━━━━━━━━━━\u001b[0m\u001b[37m\u001b[0m \u001b[1m39s\u001b[0m 103ms/step - accuracy: 0.9939 - loss: 0.0175 - val_accuracy: 0.9893 - val_loss: 0.0377\n",
            "Epoch 9/10\n",
            "\u001b[1m375/375\u001b[0m \u001b[32m━━━━━━━━━━━━━━━━━━━━\u001b[0m\u001b[37m\u001b[0m \u001b[1m41s\u001b[0m 102ms/step - accuracy: 0.9948 - loss: 0.0157 - val_accuracy: 0.9888 - val_loss: 0.0436\n",
            "Epoch 10/10\n",
            "\u001b[1m375/375\u001b[0m \u001b[32m━━━━━━━━━━━━━━━━━━━━\u001b[0m\u001b[37m\u001b[0m \u001b[1m41s\u001b[0m 102ms/step - accuracy: 0.9943 - loss: 0.0162 - val_accuracy: 0.9914 - val_loss: 0.0383\n"
          ]
        }
      ]
    },
    {
      "cell_type": "code",
      "source": [
        "score = model_cnn.evaluate(x_test, y_test, verbose=0)\n",
        "print('CNN Test loss:', score[0])\n",
        "print('CNN Test accuracy:', score[1])"
      ],
      "metadata": {
        "colab": {
          "base_uri": "https://localhost:8080/"
        },
        "id": "Wms-rATXMI0b",
        "outputId": "908561c9-4400-4dbb-a622-eea4f092bceb"
      },
      "execution_count": 22,
      "outputs": [
        {
          "output_type": "stream",
          "name": "stdout",
          "text": [
            "CNN Test loss: 0.026498230174183846\n",
            "CNN Test accuracy: 0.9926000237464905\n"
          ]
        }
      ]
    },
    {
      "cell_type": "markdown",
      "source": [
        "# Visualisasi"
      ],
      "metadata": {
        "id": "z2R1eOhUmKCR"
      }
    },
    {
      "cell_type": "code",
      "source": [
        "import matplotlib.pyplot as plt\n",
        "\n",
        "# Grafik Perbandingan Akurasi\n",
        "plt.figure(figsize=(14, 6))\n",
        "\n",
        "plt.subplot(1, 2, 1)\n",
        "plt.plot(history_mlp.history['accuracy'], 'b-', label='MLP Train')\n",
        "plt.plot(history_mlp.history['val_accuracy'], 'b--', label='MLP Val')\n",
        "plt.plot(history_cnn.history['accuracy'], 'r-', label='CNN Train')\n",
        "plt.plot(history_cnn.history['val_accuracy'], 'r--', label='CNN Val')\n",
        "plt.title('Perbandingan Akurasi: MLP vs CNN')\n",
        "plt.xlabel('Epoch')\n",
        "plt.ylabel('Akurasi')\n",
        "plt.legend()\n",
        "\n",
        "# Grafik Perbandingan Loss\n",
        "plt.subplot(1, 2, 2)\n",
        "plt.plot(history_mlp.history['loss'], 'b-', label='MLP Train Loss')\n",
        "plt.plot(history_mlp.history['val_loss'], 'b--', label='MLP Val Loss')\n",
        "plt.plot(history_cnn.history['loss'], 'r-', label='CNN Train Loss')\n",
        "plt.plot(history_cnn.history['val_loss'], 'r--', label='CNN Val Loss')\n",
        "plt.title('Perbandingan Loss: MLP vs CNN')\n",
        "plt.xlabel('Epoch')\n",
        "plt.ylabel('Loss')\n",
        "plt.legend()\n",
        "\n",
        "plt.tight_layout()\n",
        "plt.show()"
      ],
      "metadata": {
        "id": "qyQdxMpSMS8J",
        "outputId": "679123c2-f809-4fea-f4f4-296357c1e44a",
        "colab": {
          "base_uri": "https://localhost:8080/",
          "height": 607
        }
      },
      "execution_count": 23,
      "outputs": [
        {
          "output_type": "display_data",
          "data": {
            "text/plain": [
              "<Figure size 1400x600 with 2 Axes>"
            ],
            "image/png": "[encoded data removed]"
          },
          "metadata": {}
        }
      ]
    }
  ]
}
